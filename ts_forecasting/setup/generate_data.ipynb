{
 "cells": [
  {
   "cell_type": "code",
   "execution_count": 0,
   "metadata": {
    "application/vnd.databricks.v1+cell": {
     "cellMetadata": {
      "byteLimit": 2048000,
      "rowLimit": 10000
     },
     "inputWidgets": {},
     "nuid": "bb7a9065-e472-44f4-8c1f-7137b001d113",
     "showTitle": false,
     "tableResultSettingsMap": {},
     "title": ""
    }
   },
   "outputs": [],
   "source": [
    "dbutils.widgets.text(\"start_date\", \"2023-01-01\", \"Data di inizio\")\n",
    "dbutils.widgets.text(\"end_date\", \"2025-08-18\", \"Data di fine\")\n",
    "dbutils.widgets.text(\"output_name\", \"dato_input_2025-08-18.csv\", \"Nome file output\")\n",
    "dbutils.widgets.text(\"output_folder\", \"/Volumes/ts_catalog/ts_data/ts_input/\", \"Cartella output\")\n",
    "dbutils.widgets.text(\"seed\", \"100\", \"Seed random\")"
   ]
  },
  {
   "cell_type": "code",
   "execution_count": 0,
   "metadata": {
    "application/vnd.databricks.v1+cell": {
     "cellMetadata": {
      "byteLimit": 2048000,
      "rowLimit": 10000
     },
     "inputWidgets": {},
     "nuid": "277f7968-08c7-4f84-81b5-3b0babd99feb",
     "showTitle": false,
     "tableResultSettingsMap": {},
     "title": ""
    }
   },
   "outputs": [],
   "source": [
    "start_date = dbutils.widgets.get(\"start_date\")\n",
    "end_date = dbutils.widgets.get(\"end_date\")\n",
    "output_name = dbutils.widgets.get(\"output_name\")\n",
    "output_folder = dbutils.widgets.get(\"output_folder\")\n",
    "seed = int(dbutils.widgets.get(\"seed\"))"
   ]
  },
  {
   "cell_type": "code",
   "execution_count": 0,
   "metadata": {
    "application/vnd.databricks.v1+cell": {
     "cellMetadata": {
      "byteLimit": 2048000,
      "rowLimit": 10000
     },
     "inputWidgets": {},
     "nuid": "5b1a9188-d2a1-49f2-8917-8e9d41d61aef",
     "showTitle": false,
     "tableResultSettingsMap": {},
     "title": ""
    }
   },
   "outputs": [],
   "source": [
    "import sys\n",
    "import os\n",
    "\n",
    "parent_dir = os.path.abspath(os.path.join(os.getcwd(), \"..\"))\n",
    "if parent_dir not in sys.path:\n",
    "    sys.path.append(parent_dir)"
   ]
  },
  {
   "cell_type": "code",
   "execution_count": 0,
   "metadata": {
    "application/vnd.databricks.v1+cell": {
     "cellMetadata": {
      "byteLimit": 2048000,
      "rowLimit": 10000
     },
     "inputWidgets": {},
     "nuid": "d2c44b97-5d92-4e2c-acb0-78a316724c22",
     "showTitle": false,
     "tableResultSettingsMap": {},
     "title": ""
    }
   },
   "outputs": [],
   "source": [
    "import pandas as pd\n",
    "import numpy as np\n",
    "from src.data.columns import Columns"
   ]
  },
  {
   "cell_type": "code",
   "execution_count": 0,
   "metadata": {
    "application/vnd.databricks.v1+cell": {
     "cellMetadata": {
      "byteLimit": 2048000,
      "rowLimit": 10000
     },
     "inputWidgets": {},
     "nuid": "72d4cc72-ef3a-4825-b184-68e831ead798",
     "showTitle": false,
     "tableResultSettingsMap": {},
     "title": ""
    }
   },
   "outputs": [],
   "source": [
    "def generate_series(name, dates, amp_28=10, amp_7=5, noise_scale=0.1):\n",
    "    days = np.arange(len(dates))\n",
    "    sin_28 = amp_28 * np.sin(2 * np.pi * days / 28)\n",
    "    sin_7 = amp_7 * np.sin(2 * np.pi * days / 7)\n",
    "    noise_amp = (amp_28 + amp_7) * noise_scale\n",
    "    noise = noise_amp * np.random.randn(len(dates))\n",
    "    amount = sin_28 + sin_7 + noise\n",
    "    df = pd.DataFrame({\n",
    "        Columns.DATE.value: dates,\n",
    "        Columns.AMOUNT.value: amount,\n",
    "        Columns.NAME.value: name\n",
    "    })\n",
    "    return df"
   ]
  },
  {
   "cell_type": "code",
   "execution_count": 0,
   "metadata": {
    "application/vnd.databricks.v1+cell": {
     "cellMetadata": {
      "byteLimit": 2048000,
      "rowLimit": 10000
     },
     "inputWidgets": {},
     "nuid": "cf79e701-f341-4e2e-b914-659b6adc2222",
     "showTitle": false,
     "tableResultSettingsMap": {
      "0": {
       "dataGridStateBlob": "{\"version\":1,\"tableState\":{\"columnPinning\":{\"left\":[\"#row_number#\"],\"right\":[]},\"columnSizing\":{},\"columnVisibility\":{}},\"settings\":{\"columns\":{}},\"syncTimestamp\":1755760168076}",
       "filterBlob": null,
       "queryPlanFiltersBlob": null,
       "tableResultIndex": 0
      }
     },
     "title": ""
    }
   },
   "outputs": [],
   "source": [
    "np.random.seed(seed)\n",
    "\n",
    "dates = pd.bdate_range(start=start_date, end=end_date)\n",
    "df1 = generate_series(\"series_1\", dates)\n",
    "df2 = generate_series(\"series_2\", dates)\n",
    "df = pd.concat([df1, df2], ignore_index=True)\n",
    "df[Columns.DATE.value] = df[Columns.DATE.value].dt.strftime(\"%d-%b-%y\")\n",
    "\n",
    "display(df.tail(10))"
   ]
  },
  {
   "cell_type": "code",
   "execution_count": 0,
   "metadata": {
    "application/vnd.databricks.v1+cell": {
     "cellMetadata": {
      "byteLimit": 2048000,
      "rowLimit": 10000
     },
     "inputWidgets": {},
     "nuid": "cf100581-e496-4d5b-9ffa-949a8a387a61",
     "showTitle": false,
     "tableResultSettingsMap": {},
     "title": ""
    }
   },
   "outputs": [],
   "source": [
    "output_file = f\"{output_folder}{output_name}\"\n",
    "df.to_csv(output_file, index=False)\n",
    "print(f\"File '{output_file}' creato con successo con due serie distinte.\")"
   ]
  }
 ],
 "metadata": {
  "application/vnd.databricks.v1+notebook": {
   "computePreferences": null,
   "dashboards": [],
   "environmentMetadata": {
    "base_environment": "",
    "environment_version": "2"
   },
   "inputWidgetPreferences": null,
   "language": "python",
   "notebookMetadata": {
    "pythonIndentUnit": 4
   },
   "notebookName": "generate_data",
   "widgets": {
    "end_date": {
     "currentValue": "2025-08-25",
     "nuid": "6e16bd5b-dc2f-4300-af46-9d82e8e99d92",
     "typedWidgetInfo": {
      "autoCreated": false,
      "defaultValue": "2025-08-18",
      "label": "Data di fine",
      "name": "end_date",
      "options": {
       "widgetDisplayType": "Text",
       "validationRegex": null
      },
      "parameterDataType": "String"
     },
     "widgetInfo": {
      "widgetType": "text",
      "defaultValue": "2025-08-18",
      "label": "Data di fine",
      "name": "end_date",
      "options": {
       "widgetType": "text",
       "autoCreated": null,
       "validationRegex": null
      }
     }
    },
    "output_folder": {
     "currentValue": "/Volumes/ts_catalog/ts_data/ts_input/",
     "nuid": "973000fc-9d29-4875-acb3-f37b4755bb4d",
     "typedWidgetInfo": {
      "autoCreated": false,
      "defaultValue": "/Volumes/ts_catalog/ts_data/ts_input/",
      "label": "Cartella output",
      "name": "output_folder",
      "options": {
       "widgetDisplayType": "Text",
       "validationRegex": null
      },
      "parameterDataType": "String"
     },
     "widgetInfo": {
      "widgetType": "text",
      "defaultValue": "/Volumes/ts_catalog/ts_data/ts_input/",
      "label": "Cartella output",
      "name": "output_folder",
      "options": {
       "widgetType": "text",
       "autoCreated": null,
       "validationRegex": null
      }
     }
    },
    "output_name": {
     "currentValue": "dato_input_2025-08-25.csv",
     "nuid": "44dde665-6765-4442-a93f-b5a77bb92810",
     "typedWidgetInfo": {
      "autoCreated": false,
      "defaultValue": "dato_input_2025-08-18.csv",
      "label": "Nome file output",
      "name": "output_name",
      "options": {
       "widgetDisplayType": "Text",
       "validationRegex": null
      },
      "parameterDataType": "String"
     },
     "widgetInfo": {
      "widgetType": "text",
      "defaultValue": "dato_input_2025-08-18.csv",
      "label": "Nome file output",
      "name": "output_name",
      "options": {
       "widgetType": "text",
       "autoCreated": null,
       "validationRegex": null
      }
     }
    },
    "seed": {
     "currentValue": "100",
     "nuid": "9c231ca4-319f-4e1b-9979-9fdec4808075",
     "typedWidgetInfo": {
      "autoCreated": false,
      "defaultValue": "100",
      "label": "Seed random",
      "name": "seed",
      "options": {
       "widgetDisplayType": "Text",
       "validationRegex": null
      },
      "parameterDataType": "String"
     },
     "widgetInfo": {
      "widgetType": "text",
      "defaultValue": "100",
      "label": "Seed random",
      "name": "seed",
      "options": {
       "widgetType": "text",
       "autoCreated": null,
       "validationRegex": null
      }
     }
    },
    "start_date": {
     "currentValue": "2023-01-01",
     "nuid": "b895ce53-64e1-404c-a290-5b08db4e285f",
     "typedWidgetInfo": {
      "autoCreated": false,
      "defaultValue": "2023-01-01",
      "label": "Data di inizio",
      "name": "start_date",
      "options": {
       "widgetDisplayType": "Text",
       "validationRegex": null
      },
      "parameterDataType": "String"
     },
     "widgetInfo": {
      "widgetType": "text",
      "defaultValue": "2023-01-01",
      "label": "Data di inizio",
      "name": "start_date",
      "options": {
       "widgetType": "text",
       "autoCreated": null,
       "validationRegex": null
      }
     }
    }
   }
  },
  "language_info": {
   "name": "python"
  }
 },
 "nbformat": 4,
 "nbformat_minor": 0
}
