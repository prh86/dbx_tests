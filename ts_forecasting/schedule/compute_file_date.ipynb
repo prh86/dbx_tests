{
 "cells": [
  {
   "cell_type": "code",
   "execution_count": 0,
   "metadata": {
    "application/vnd.databricks.v1+cell": {
     "cellMetadata": {},
     "inputWidgets": {},
     "nuid": "71f5807f-4679-4398-aee1-d42616ae2f9d",
     "showTitle": false,
     "tableResultSettingsMap": {},
     "title": ""
    }
   },
   "outputs": [],
   "source": [
    "from datetime import datetime, timedelta\n",
    "import json"
   ]
  },
  {
   "cell_type": "code",
   "execution_count": 0,
   "metadata": {
    "application/vnd.databricks.v1+cell": {
     "cellMetadata": {},
     "inputWidgets": {},
     "nuid": "5da2a19e-4c6d-4bd4-9b06-4f31029046dc",
     "showTitle": false,
     "tableResultSettingsMap": {},
     "title": ""
    }
   },
   "outputs": [],
   "source": [
    "dbutils.widgets.text(\"file_date_forced\", \"\")\n",
    "file_date_forced = dbutils.widgets.get(\"file_date_forced\")"
   ]
  },
  {
   "cell_type": "code",
   "execution_count": 0,
   "metadata": {
    "application/vnd.databricks.v1+cell": {
     "cellMetadata": {},
     "inputWidgets": {},
     "nuid": "ef7eaa06-0755-4bd9-b4b0-76ff4c38398a",
     "showTitle": false,
     "tableResultSettingsMap": {},
     "title": ""
    }
   },
   "outputs": [],
   "source": [
    "# Check if file_date is provided\n",
    "if not file_date_forced:\n",
    "    # If not provided, use today's date\n",
    "    file_date = (datetime.today()).strftime(\"%Y-%m-%d\")\n",
    "    print(f\"Nessun file_date_forced passato, uso valore calcolato: {file_date}\")\n",
    "else:\n",
    "    # If provided, use the provided file_date\n",
    "    print(f\"file_date_forced passato dal job: {file_date_forced}\")\n",
    "    file_date = file_date_forced\n",
    "\n",
    "print(f\"Infine, ecco il file_date che setto a livello di task: {file_date}\")"
   ]
  },
  {
   "cell_type": "code",
   "execution_count": 0,
   "metadata": {
    "application/vnd.databricks.v1+cell": {
     "cellMetadata": {},
     "inputWidgets": {},
     "nuid": "09f80406-b32d-4e19-ac7f-f2f02b29ac8e",
     "showTitle": false,
     "tableResultSettingsMap": {},
     "title": ""
    }
   },
   "outputs": [],
   "source": [
    "# Set the file_date value for the job task\n",
    "dbutils.jobs.taskValues.set(\"file_date\", file_date)"
   ]
  }
 ],
 "metadata": {
  "application/vnd.databricks.v1+notebook": {
   "computePreferences": null,
   "dashboards": [],
   "environmentMetadata": {
    "base_environment": "",
    "environment_version": "2"
   },
   "inputWidgetPreferences": null,
   "language": "python",
   "notebookMetadata": {
    "pythonIndentUnit": 4
   },
   "notebookName": "compute_file_date",
   "widgets": {}
  },
  "language_info": {
   "name": "python"
  }
 },
 "nbformat": 4,
 "nbformat_minor": 0
}
