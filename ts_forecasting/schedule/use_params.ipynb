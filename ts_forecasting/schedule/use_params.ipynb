{
 "cells": [
  {
   "cell_type": "code",
   "execution_count": 0,
   "metadata": {
    "application/vnd.databricks.v1+cell": {
     "cellMetadata": {},
     "inputWidgets": {},
     "nuid": "3ffb5306-27a1-4958-b24d-06de0ce59d10",
     "showTitle": false,
     "tableResultSettingsMap": {},
     "title": ""
    }
   },
   "outputs": [],
   "source": [
    "import json\n",
    "\n",
    "# Register expected widgets\n",
    "\n",
    "dbutils.widgets.text(\"file_date_tv\", \"\")\n",
    "dbutils.widgets.text(\"source_table\", \"\")\n",
    "dbutils.widgets.text(\"partition_key\", \"\")\n",
    "\n",
    "# Get widget values\n",
    "file_date_tv = dbutils.widgets.get(\"file_date_tv\")\n",
    "source_table = dbutils.widgets.get(\"source_table\")\n",
    "partition_key = dbutils.widgets.get(\"partition_key\")\n",
    "\n",
    "print(f\"file_date_tv: {file_date_tv}\")\n",
    "print(f\"source_table: {source_table}\")\n",
    "print(f\"partition_key: {partition_key}\")\n"
   ]
  }
 ],
 "metadata": {
  "application/vnd.databricks.v1+notebook": {
   "computePreferences": null,
   "dashboards": [],
   "environmentMetadata": {
    "base_environment": "",
    "environment_version": "2"
   },
   "inputWidgetPreferences": null,
   "language": "python",
   "notebookMetadata": {
    "pythonIndentUnit": 4
   },
   "notebookName": "use_params",
   "widgets": {}
  },
  "language_info": {
   "name": "python"
  }
 },
 "nbformat": 4,
 "nbformat_minor": 0
}
