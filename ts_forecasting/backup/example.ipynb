{
 "cells": [
  {
   "cell_type": "markdown",
   "metadata": {
    "application/vnd.databricks.v1+cell": {
     "cellMetadata": {},
     "inputWidgets": {},
     "nuid": "99236fec-1052-461e-852a-9c8a0213ace4",
     "showTitle": false,
     "tableResultSettingsMap": {},
     "title": ""
    }
   },
   "source": [
    "## Esperimento _skforecast_ "
   ]
  },
  {
   "cell_type": "markdown",
   "metadata": {
    "application/vnd.databricks.v1+cell": {
     "cellMetadata": {},
     "inputWidgets": {},
     "nuid": "3c10cceb-fad9-4821-bf79-72a56ea5afb0",
     "showTitle": false,
     "tableResultSettingsMap": {},
     "title": ""
    }
   },
   "source": [
    "#### Libraries\n",
    "\n",
    "\n",
    "skforecast==0.14.0\n",
    "\n",
    "\n",
    "scikit-learn==1.5.0\n",
    "\n",
    "\n",
    "xgboost==2.1.3\n",
    "\n",
    "\n",
    "matplotlib==3.10.0\n",
    "\n"
   ]
  },
  {
   "cell_type": "code",
   "execution_count": 0,
   "metadata": {
    "application/vnd.databricks.v1+cell": {
     "cellMetadata": {},
     "inputWidgets": {},
     "nuid": "e1b05225-f60b-4eac-ac79-4c8c57594a05",
     "showTitle": false,
     "tableResultSettingsMap": {},
     "title": ""
    }
   },
   "outputs": [],
   "source": [
    "# ONLY DATABRICKS\n",
    "'''\n",
    "%pip install skforecast==0.14.0 scikit-learn==1.5.0 xgboost==2.1.3 matplotlib==3.10.0\n",
    "'''"
   ]
  },
  {
   "cell_type": "code",
   "execution_count": 0,
   "metadata": {
    "application/vnd.databricks.v1+cell": {
     "cellMetadata": {},
     "inputWidgets": {},
     "nuid": "08b55c15-3fdd-44c8-a595-730482b7b8e2",
     "showTitle": false,
     "tableResultSettingsMap": {},
     "title": ""
    }
   },
   "outputs": [],
   "source": [
    "'''\n",
    "dbutils.library.restartPython()\n",
    "'''"
   ]
  },
  {
   "cell_type": "code",
   "execution_count": 0,
   "metadata": {
    "application/vnd.databricks.v1+cell": {
     "cellMetadata": {},
     "inputWidgets": {},
     "nuid": "1b7b05eb-836f-4b2d-bc6d-427311d64763",
     "showTitle": false,
     "tableResultSettingsMap": {},
     "title": ""
    }
   },
   "outputs": [],
   "source": [
    "import os\n",
    "import sys"
   ]
  },
  {
   "cell_type": "code",
   "execution_count": 0,
   "metadata": {
    "application/vnd.databricks.v1+cell": {
     "cellMetadata": {},
     "inputWidgets": {},
     "nuid": "706fcfe4-f792-4b4c-b1f1-5dc5151e9b6f",
     "showTitle": false,
     "tableResultSettingsMap": {},
     "title": ""
    }
   },
   "outputs": [],
   "source": [
    "import pandas as pd\n",
    "import numpy as np\n",
    "from functools import partial\n",
    "import matplotlib.pyplot as plt\n",
    "from sklearn.model_selection import TimeSeriesSplit\n",
    "from sklearn.metrics import mean_absolute_error\n",
    "\n",
    "from tqdm import tqdm\n",
    "\n",
    "pd.options.display.float_format = \"{:,.2f}\".format\n",
    "\n",
    "from exog import get_day, get_dayofweek, get_month\n",
    "\n",
    "from cust_holidays import get_all_holidays"
   ]
  },
  {
   "cell_type": "code",
   "execution_count": 0,
   "metadata": {
    "application/vnd.databricks.v1+cell": {
     "cellMetadata": {},
     "inputWidgets": {},
     "nuid": "5b71482f-da14-411e-be3a-798c7c262ed9",
     "showTitle": false,
     "tableResultSettingsMap": {},
     "title": ""
    }
   },
   "outputs": [],
   "source": [
    "def resample(df: pd.DataFrame, col: str, freq: str) -> pd.DataFrame:\n",
    "    \"\"\"Resample dataframe based on the set frequency\n",
    "\n",
    "    :param df: input dataframe\n",
    "    :type df: pd.DataFrame\n",
    "    :return: resampled dataframe\n",
    "    :rtype: pd.DataFrame\n",
    "    \"\"\"\n",
    "    df_resampled = df.copy()\n",
    "    df_resampled = df_resampled.set_index(col)\n",
    "    df_resampled = df_resampled.reindex(\n",
    "        pd.date_range(start=df_resampled.index.min(), end=df_resampled.index.max(), freq=freq)\n",
    "    )\n",
    "    df_resampled = df_resampled.reset_index().rename(columns={\"index\": col})\n",
    "    return df_resampled\n",
    "\n",
    "\n",
    "list_holidays = [x.strftime(\"%Y-%m-%d\") for x in get_all_holidays([2023, 2024, 2025, 2026])]"
   ]
  },
  {
   "cell_type": "code",
   "execution_count": 0,
   "metadata": {
    "application/vnd.databricks.v1+cell": {
     "cellMetadata": {},
     "inputWidgets": {},
     "nuid": "84016f69-9d85-4331-829a-f65c203ea6d7",
     "showTitle": false,
     "tableResultSettingsMap": {},
     "title": ""
    }
   },
   "outputs": [],
   "source": [
    "DATE_COL = \"SETTLEMENT_DATE\"\n",
    "AMOUNT_COL = \"AMOUNT\"\n",
    "NAME_COL = \"NAME\"\n",
    "INPUT_DATA_PATH = \"/notebooks/dbx/serie_storica_dual.csv\"\n",
    "MODEL_PATH = \"/notebooks/dbx/forecaster.joblib\""
   ]
  },
  {
   "cell_type": "code",
   "execution_count": 0,
   "metadata": {
    "application/vnd.databricks.v1+cell": {
     "cellMetadata": {},
     "inputWidgets": {},
     "nuid": "27a67588-71d0-4646-8db3-c792bb53ae67",
     "showTitle": false,
     "tableResultSettingsMap": {},
     "title": ""
    }
   },
   "outputs": [],
   "source": [
    "data = pd.read_csv(INPUT_DATA_PATH)"
   ]
  },
  {
   "cell_type": "code",
   "execution_count": 0,
   "metadata": {
    "application/vnd.databricks.v1+cell": {
     "cellMetadata": {},
     "inputWidgets": {},
     "nuid": "56454178-c4b0-4fca-9a48-f3da08e368e6",
     "showTitle": false,
     "tableResultSettingsMap": {},
     "title": ""
    }
   },
   "outputs": [],
   "source": [
    "data = data.loc[data[NAME_COL]=='series_1'].drop(columns=[NAME_COL])"
   ]
  },
  {
   "cell_type": "code",
   "execution_count": 0,
   "metadata": {
    "application/vnd.databricks.v1+cell": {
     "cellMetadata": {},
     "inputWidgets": {},
     "nuid": "8813b484-ee0c-48d0-b4c1-6dba69ca9d21",
     "showTitle": false,
     "tableResultSettingsMap": {},
     "title": ""
    }
   },
   "outputs": [],
   "source": [
    "data.columns"
   ]
  },
  {
   "cell_type": "code",
   "execution_count": 0,
   "metadata": {
    "application/vnd.databricks.v1+cell": {
     "cellMetadata": {},
     "inputWidgets": {},
     "nuid": "7ad9b181-882f-4bad-9cbf-ca61b14dc03d",
     "showTitle": false,
     "tableResultSettingsMap": {},
     "title": ""
    }
   },
   "outputs": [],
   "source": [
    "data[DATE_COL] = pd.to_datetime(data[DATE_COL], format='%d-%b-%y')\n",
    "data = resample(\n",
    "    data,\n",
    "    col=DATE_COL,\n",
    "    freq=\"B\",\n",
    ").fillna(0)\n",
    "data.index = data[DATE_COL]\n",
    "\n",
    "data = data.asfreq('B')"
   ]
  },
  {
   "cell_type": "code",
   "execution_count": 0,
   "metadata": {
    "application/vnd.databricks.v1+cell": {
     "cellMetadata": {},
     "inputWidgets": {},
     "nuid": "310e9875-1b37-41da-a39c-2017f3d3fbfb",
     "showTitle": false,
     "tableResultSettingsMap": {},
     "title": ""
    }
   },
   "outputs": [],
   "source": [
    "data[AMOUNT_COL].plot()"
   ]
  },
  {
   "cell_type": "code",
   "execution_count": 0,
   "metadata": {
    "application/vnd.databricks.v1+cell": {
     "cellMetadata": {},
     "inputWidgets": {},
     "nuid": "05b5ef6d-f027-42a0-ad26-549009a49706",
     "showTitle": false,
     "tableResultSettingsMap": {},
     "title": ""
    }
   },
   "outputs": [],
   "source": [
    "features_exog = {\n",
    "    \"day\": partial(get_day, date_col=DATE_COL),\n",
    "    \"month\": partial(get_month, date_col=DATE_COL),\n",
    "    \"day_of_week\": partial(get_dayofweek, date_col=DATE_COL)\n",
    "}\n",
    "\n",
    "lags = []"
   ]
  },
  {
   "cell_type": "code",
   "execution_count": 0,
   "metadata": {
    "application/vnd.databricks.v1+cell": {
     "cellMetadata": {},
     "inputWidgets": {},
     "nuid": "4f5977ea-9767-45a8-ae9b-51a9ad8be140",
     "showTitle": false,
     "tableResultSettingsMap": {},
     "title": ""
    }
   },
   "outputs": [],
   "source": [
    "def apply_functions(y, features_to_func):\n",
    "    cols = []\n",
    "    for fn in features_to_func:\n",
    "        cols.append(y.apply(features_to_func[fn], axis=1).rename(fn))\n",
    "    df_out = pd.concat(cols, axis=1)\n",
    "    df_out.index = y.index\n",
    "    return df_out"
   ]
  },
  {
   "cell_type": "markdown",
   "metadata": {
    "application/vnd.databricks.v1+cell": {
     "cellMetadata": {},
     "inputWidgets": {},
     "nuid": "8eb40c84-7620-4287-a493-40bcef9e5142",
     "showTitle": false,
     "tableResultSettingsMap": {},
     "title": ""
    }
   },
   "source": [
    "#### experiment parameters"
   ]
  },
  {
   "cell_type": "code",
   "execution_count": 0,
   "metadata": {
    "application/vnd.databricks.v1+cell": {
     "cellMetadata": {},
     "inputWidgets": {},
     "nuid": "bf3ac88b-5865-41f8-8928-05089e18d602",
     "showTitle": false,
     "tableResultSettingsMap": {},
     "title": ""
    }
   },
   "outputs": [],
   "source": [
    "date_thr_0 = \"2024-08-01\"  # train - test_1 threshold\n",
    "length_window_0 = 120  # approx steps for test_1\n",
    "length_window_1 = 60  # approx steps for test_2"
   ]
  },
  {
   "cell_type": "code",
   "execution_count": 0,
   "metadata": {
    "application/vnd.databricks.v1+cell": {
     "cellMetadata": {},
     "inputWidgets": {},
     "nuid": "f8473d70-1c34-45d5-8941-28622309438d",
     "showTitle": false,
     "tableResultSettingsMap": {},
     "title": ""
    }
   },
   "outputs": [],
   "source": [
    "X = apply_functions(data, features_exog)\n",
    "y = data[AMOUNT_COL]"
   ]
  },
  {
   "cell_type": "code",
   "execution_count": 0,
   "metadata": {
    "application/vnd.databricks.v1+cell": {
     "cellMetadata": {},
     "inputWidgets": {},
     "nuid": "594d0fee-c1de-4b62-951a-e53b59540c3a",
     "showTitle": false,
     "tableResultSettingsMap": {},
     "title": ""
    }
   },
   "outputs": [],
   "source": [
    "X"
   ]
  },
  {
   "cell_type": "code",
   "execution_count": 0,
   "metadata": {
    "application/vnd.databricks.v1+cell": {
     "cellMetadata": {},
     "inputWidgets": {},
     "nuid": "6bb7ba07-b0d8-475b-9b7f-847bb06325f3",
     "showTitle": false,
     "tableResultSettingsMap": {},
     "title": ""
    }
   },
   "outputs": [],
   "source": [
    "y"
   ]
  },
  {
   "cell_type": "markdown",
   "metadata": {
    "application/vnd.databricks.v1+cell": {
     "cellMetadata": {},
     "inputWidgets": {},
     "nuid": "5efb5f64-e445-48ca-9de3-a3dd48afade7",
     "showTitle": false,
     "tableResultSettingsMap": {},
     "title": ""
    }
   },
   "source": [
    "#### Variabili rolling"
   ]
  },
  {
   "cell_type": "code",
   "execution_count": 0,
   "metadata": {
    "application/vnd.databricks.v1+cell": {
     "cellMetadata": {},
     "inputWidgets": {},
     "nuid": "3a78ba82-ab65-49a3-a9ad-68585c88461c",
     "showTitle": false,
     "tableResultSettingsMap": {},
     "title": ""
    }
   },
   "outputs": [],
   "source": [
    "from skforecast.preprocessing import RollingFeatures\n",
    "\n",
    "# for custom window features..\n",
    "# https://skforecast.org/0.14.0/user_guides/window-features-and-custom-features.html\n",
    "\n",
    "window_features = RollingFeatures(\n",
    "    stats=[\"mean\", \"mean\", \"std\", \"std\", \"coef_variation\"], window_sizes=[10, 5, 10, 5, 10]\n",
    ")"
   ]
  },
  {
   "cell_type": "code",
   "execution_count": 0,
   "metadata": {
    "application/vnd.databricks.v1+cell": {
     "cellMetadata": {},
     "inputWidgets": {},
     "nuid": "b2d3eaeb-d026-4fee-aaa1-2c73ffb9c4af",
     "showTitle": false,
     "tableResultSettingsMap": {},
     "title": ""
    }
   },
   "outputs": [],
   "source": [
    "y.index.min(), y.index.max()"
   ]
  },
  {
   "cell_type": "markdown",
   "metadata": {
    "application/vnd.databricks.v1+cell": {
     "cellMetadata": {},
     "inputWidgets": {},
     "nuid": "b2acc839-7510-4712-bcac-ee078cbba6c0",
     "showTitle": false,
     "tableResultSettingsMap": {},
     "title": ""
    }
   },
   "source": [
    "#### Train/test split"
   ]
  },
  {
   "cell_type": "code",
   "execution_count": 0,
   "metadata": {
    "application/vnd.databricks.v1+cell": {
     "cellMetadata": {},
     "inputWidgets": {},
     "nuid": "2414a6cc-dd6e-4adb-9259-37e243bc25bc",
     "showTitle": false,
     "tableResultSettingsMap": {},
     "title": ""
    }
   },
   "outputs": [],
   "source": [
    "date_thr_1 = pd.to_datetime(date_thr_0) + pd.offsets.CustomBusinessDay(length_window_0, holidays=list_holidays)\n",
    "date_thr_2 = pd.to_datetime(date_thr_1) + pd.offsets.CustomBusinessDay(length_window_1, holidays=list_holidays)\n",
    "\n",
    "y_train = y.loc[y.index < date_thr_0]\n",
    "y_test_1 = y.loc[(y.index >= date_thr_0) & (y.index < date_thr_1)]\n",
    "y_test_2 = y.loc[(y.index >= date_thr_1) & (y.index < date_thr_2)]\n",
    "\n",
    "X_train = X.loc[y_train.index]\n",
    "X_test_1 = X.loc[y_test_1.index]\n",
    "X_test_2 = X.loc[y_test_2.index]"
   ]
  },
  {
   "cell_type": "code",
   "execution_count": 0,
   "metadata": {
    "application/vnd.databricks.v1+cell": {
     "cellMetadata": {},
     "inputWidgets": {},
     "nuid": "4c957320-a170-47d1-b336-a361dd2558da",
     "showTitle": false,
     "tableResultSettingsMap": {},
     "title": ""
    }
   },
   "outputs": [],
   "source": [
    "y_train.shape, y_test_1.shape, y_test_2.shape"
   ]
  },
  {
   "cell_type": "code",
   "execution_count": 0,
   "metadata": {
    "application/vnd.databricks.v1+cell": {
     "cellMetadata": {},
     "inputWidgets": {},
     "nuid": "d48db910-077f-4107-95c1-fd60b573eb8a",
     "showTitle": false,
     "tableResultSettingsMap": {},
     "title": ""
    }
   },
   "outputs": [],
   "source": [
    "window_features.transform_batch(y).head(10)"
   ]
  },
  {
   "cell_type": "markdown",
   "metadata": {
    "application/vnd.databricks.v1+cell": {
     "cellMetadata": {},
     "inputWidgets": {},
     "nuid": "a81c3857-a283-4259-8784-7e25ec30d2ec",
     "showTitle": false,
     "tableResultSettingsMap": {},
     "title": ""
    }
   },
   "source": [
    "#### Definizione Forecaster"
   ]
  },
  {
   "cell_type": "code",
   "execution_count": 0,
   "metadata": {
    "application/vnd.databricks.v1+cell": {
     "cellMetadata": {},
     "inputWidgets": {},
     "nuid": "8f143a7e-03ec-4429-bc3c-33e0f3def68d",
     "showTitle": false,
     "tableResultSettingsMap": {},
     "title": ""
    }
   },
   "outputs": [],
   "source": [
    "from skforecast.model_selection import TimeSeriesFold\n",
    "\n",
    "lags_grid = [11, 22]\n",
    "param_grid = {\n",
    "    \"learning_rate\": [0.05, 0.1],\n",
    "    \"max_depth\": [5, 6, 7],\n",
    "    \"n_estimators\": [50, 100, 200],\n",
    "    \"colsample_bytree\": [0.5, 1],\n",
    "}\n",
    "\n",
    "\n",
    "cv = TimeSeriesFold(\n",
    "    steps=60,\n",
    "    initial_train_size=60,\n",
    "    gap=0,\n",
    "    refit=True,\n",
    "    fixed_train_size=False,\n",
    ")"
   ]
  },
  {
   "cell_type": "code",
   "execution_count": 0,
   "metadata": {
    "application/vnd.databricks.v1+cell": {
     "cellMetadata": {},
     "inputWidgets": {},
     "nuid": "56d8bee4-9b6d-4c03-8473-b72468b9c90b",
     "showTitle": false,
     "tableResultSettingsMap": {},
     "title": ""
    }
   },
   "outputs": [],
   "source": [
    "from xgboost import XGBRegressor\n",
    "from skforecast.recursive import ForecasterRecursive"
   ]
  },
  {
   "cell_type": "code",
   "execution_count": 0,
   "metadata": {
    "application/vnd.databricks.v1+cell": {
     "cellMetadata": {},
     "inputWidgets": {},
     "nuid": "1fcf8814-35c0-4706-a379-c50c858642b6",
     "showTitle": false,
     "tableResultSettingsMap": {},
     "title": ""
    }
   },
   "outputs": [],
   "source": [
    "forecaster = ForecasterRecursive(\n",
    "    regressor=XGBRegressor(random_state=321),\n",
    "    lags=100,\n",
    "    window_features=window_features,\n",
    "    forecaster_id=\"forecasting_series_y\",\n",
    ")\n",
    "\n",
    "\"\"\"\n",
    "forecaster.fit(\n",
    "    y=y_train,\n",
    "    exog=X_train,\n",
    "    store_last_window=False,\n",
    "    store_in_sample_residuals=True,\n",
    "    random_state=412,\n",
    ")\n",
    "\"\"\""
   ]
  },
  {
   "cell_type": "markdown",
   "metadata": {
    "application/vnd.databricks.v1+cell": {
     "cellMetadata": {},
     "inputWidgets": {},
     "nuid": "e01a3dea-60a9-492d-a751-f8532fc7973c",
     "showTitle": false,
     "tableResultSettingsMap": {},
     "title": ""
    }
   },
   "source": [
    "#### Grid search"
   ]
  },
  {
   "cell_type": "code",
   "execution_count": 0,
   "metadata": {
    "application/vnd.databricks.v1+cell": {
     "cellMetadata": {},
     "inputWidgets": {},
     "nuid": "0c323b3f-49f0-419c-bfb2-c80028d3d19e",
     "showTitle": false,
     "tableResultSettingsMap": {},
     "title": ""
    }
   },
   "outputs": [],
   "source": [
    "from skforecast.model_selection import grid_search_forecaster\n",
    "\n",
    "results_grid = grid_search_forecaster(\n",
    "    forecaster=forecaster,\n",
    "    y=y_train,\n",
    "    exog=X_train,\n",
    "    cv=cv,\n",
    "    param_grid=param_grid,\n",
    "    lags_grid=lags_grid,\n",
    "    metric=\"mean_absolute_error\",\n",
    "    return_best=True,\n",
    "    verbose=False,\n",
    "    show_progress=True,\n",
    "    n_jobs=6,\n",
    ")"
   ]
  },
  {
   "cell_type": "code",
   "execution_count": 0,
   "metadata": {
    "application/vnd.databricks.v1+cell": {
     "cellMetadata": {},
     "inputWidgets": {},
     "nuid": "bad81966-a5f5-4c4a-a08d-e3d7880dc4c2",
     "showTitle": false,
     "tableResultSettingsMap": {},
     "title": ""
    }
   },
   "outputs": [],
   "source": [
    "results_grid"
   ]
  },
  {
   "cell_type": "code",
   "execution_count": 0,
   "metadata": {
    "application/vnd.databricks.v1+cell": {
     "cellMetadata": {},
     "inputWidgets": {},
     "nuid": "a71285b2-ed7f-4415-81c2-d50cb8571b87",
     "showTitle": false,
     "tableResultSettingsMap": {},
     "title": ""
    }
   },
   "outputs": [],
   "source": [
    "results_grid.loc[0, :]"
   ]
  },
  {
   "cell_type": "code",
   "execution_count": 0,
   "metadata": {
    "application/vnd.databricks.v1+cell": {
     "cellMetadata": {},
     "inputWidgets": {},
     "nuid": "4b064c78-1be5-4485-aa6f-bcd4b8a8cf80",
     "showTitle": false,
     "tableResultSettingsMap": {},
     "title": ""
    }
   },
   "outputs": [],
   "source": [
    "forecaster.regressor.get_params()"
   ]
  },
  {
   "cell_type": "code",
   "execution_count": 0,
   "metadata": {
    "application/vnd.databricks.v1+cell": {
     "cellMetadata": {},
     "inputWidgets": {},
     "nuid": "08d9c5e0-94de-4ae6-978b-2d8daeac1449",
     "showTitle": false,
     "tableResultSettingsMap": {},
     "title": ""
    }
   },
   "outputs": [],
   "source": [
    "X_example, y_example = forecaster.create_train_X_y(y=y_train)\n",
    "print(X_example.columns.tolist())"
   ]
  },
  {
   "cell_type": "markdown",
   "metadata": {
    "application/vnd.databricks.v1+cell": {
     "cellMetadata": {},
     "inputWidgets": {},
     "nuid": "09735d82-78f1-4cb2-9cce-fa34aec66c29",
     "showTitle": false,
     "tableResultSettingsMap": {},
     "title": ""
    }
   },
   "source": [
    "#### Feature importance"
   ]
  },
  {
   "cell_type": "code",
   "execution_count": 0,
   "metadata": {
    "application/vnd.databricks.v1+cell": {
     "cellMetadata": {},
     "inputWidgets": {},
     "nuid": "36df3141-d7bc-4d7c-93de-b223a712af7c",
     "showTitle": false,
     "tableResultSettingsMap": {},
     "title": ""
    }
   },
   "outputs": [],
   "source": [
    "fi = forecaster.get_feature_importances(sort_importance=True)\n",
    "fi"
   ]
  },
  {
   "cell_type": "markdown",
   "metadata": {
    "application/vnd.databricks.v1+cell": {
     "cellMetadata": {},
     "inputWidgets": {},
     "nuid": "3b7f9281-4d9c-44d3-b721-1373d3416c27",
     "showTitle": false,
     "tableResultSettingsMap": {},
     "title": ""
    }
   },
   "source": [
    "#### Model save/load"
   ]
  },
  {
   "cell_type": "code",
   "execution_count": 0,
   "metadata": {
    "application/vnd.databricks.v1+cell": {
     "cellMetadata": {},
     "inputWidgets": {},
     "nuid": "610958e7-fa37-435c-a151-c0cf02155000",
     "showTitle": false,
     "tableResultSettingsMap": {},
     "title": ""
    }
   },
   "outputs": [],
   "source": [
    "from skforecast.utils import save_forecaster\n",
    "from skforecast.utils import load_forecaster\n",
    "\n",
    "save_forecaster(forecaster, file_name=MODEL_PATH, verbose=True)"
   ]
  },
  {
   "cell_type": "code",
   "execution_count": 0,
   "metadata": {
    "application/vnd.databricks.v1+cell": {
     "cellMetadata": {},
     "inputWidgets": {},
     "nuid": "eac33fea-0b30-43bc-8307-46bb389c0164",
     "showTitle": false,
     "tableResultSettingsMap": {},
     "title": ""
    }
   },
   "outputs": [],
   "source": [
    "forecaster = load_forecaster(MODEL_PATH, verbose=True)"
   ]
  },
  {
   "cell_type": "markdown",
   "metadata": {
    "application/vnd.databricks.v1+cell": {
     "cellMetadata": {},
     "inputWidgets": {},
     "nuid": "161155b5-e578-48a6-bf18-b7ee9f1d9239",
     "showTitle": false,
     "tableResultSettingsMap": {},
     "title": ""
    }
   },
   "source": [
    "#### Predict su periodo adiacente il training set"
   ]
  },
  {
   "cell_type": "code",
   "execution_count": 0,
   "metadata": {
    "application/vnd.databricks.v1+cell": {
     "cellMetadata": {},
     "inputWidgets": {},
     "nuid": "7a628c64-dc02-4eb9-a911-30c04578fd0d",
     "showTitle": false,
     "tableResultSettingsMap": {},
     "title": ""
    }
   },
   "outputs": [],
   "source": [
    "from skforecast.model_selection import backtesting_forecaster\n",
    "\n",
    "bt_cv = TimeSeriesFold(steps=60, initial_train_size=len(y_train), refit=False, allow_incomplete_fold=False)\n",
    "\n",
    "bt_metric, bt_prediction = backtesting_forecaster(\n",
    "    forecaster=forecaster,\n",
    "    y=pd.concat([y_train, y_test_1], axis=0),\n",
    "    exog=pd.concat([X_train, X_test_1], axis=0),\n",
    "    cv=bt_cv,\n",
    "    metric=\"mean_absolute_error\",\n",
    "    n_jobs=6,\n",
    "    verbose=True,\n",
    "    show_progress=True,\n",
    ")"
   ]
  },
  {
   "cell_type": "code",
   "execution_count": 0,
   "metadata": {
    "application/vnd.databricks.v1+cell": {
     "cellMetadata": {},
     "inputWidgets": {},
     "nuid": "4a8a9094-ae4f-40ec-bcc2-f52624c97531",
     "showTitle": false,
     "tableResultSettingsMap": {},
     "title": ""
    }
   },
   "outputs": [],
   "source": [
    "bt_metric"
   ]
  },
  {
   "cell_type": "code",
   "execution_count": 0,
   "metadata": {
    "application/vnd.databricks.v1+cell": {
     "cellMetadata": {},
     "inputWidgets": {},
     "nuid": "0c2f2202-3da9-43cc-ab1c-625776e9b0cd",
     "showTitle": false,
     "tableResultSettingsMap": {},
     "title": ""
    }
   },
   "outputs": [],
   "source": [
    "bt_prediction"
   ]
  },
  {
   "cell_type": "code",
   "execution_count": 0,
   "metadata": {
    "application/vnd.databricks.v1+cell": {
     "cellMetadata": {},
     "inputWidgets": {},
     "nuid": "4022aa0e-2825-401f-9e04-c73db28eb022",
     "showTitle": false,
     "tableResultSettingsMap": {},
     "title": ""
    }
   },
   "outputs": [],
   "source": [
    "fig, ax = plt.subplots(1, 1, figsize=(8, 4))\n",
    "\n",
    "y_test_1.plot(ax=ax, label=\"test_1\", color=\"y\")\n",
    "bt_prediction[\"pred\"].plot(ax=ax, label=\"bt pred\", color=\"b\")\n",
    "fig.legend()"
   ]
  },
  {
   "cell_type": "code",
   "execution_count": 0,
   "metadata": {
    "application/vnd.databricks.v1+cell": {
     "cellMetadata": {},
     "inputWidgets": {},
     "nuid": "ab3c50aa-7984-49fa-ae26-05f6e942791a",
     "showTitle": false,
     "tableResultSettingsMap": {},
     "title": ""
    }
   },
   "outputs": [],
   "source": [
    "# Predizione in un'unica soluzione\n",
    "'''\n",
    "predict_steps = len(y_test_1)\n",
    "y_pred_1 = forecaster.predict(steps=predict_steps, last_window=y_train, exog=X_test_1)\n",
    "y_pred_1\n",
    "'''"
   ]
  },
  {
   "cell_type": "markdown",
   "metadata": {
    "application/vnd.databricks.v1+cell": {
     "cellMetadata": {},
     "inputWidgets": {},
     "nuid": "30ffcdc6-0347-4b8a-aa2c-f7808c7ecf1d",
     "showTitle": false,
     "tableResultSettingsMap": {},
     "title": ""
    }
   },
   "source": [
    "#### Predict su periodo non adiacente il training set"
   ]
  },
  {
   "cell_type": "code",
   "execution_count": 0,
   "metadata": {
    "application/vnd.databricks.v1+cell": {
     "cellMetadata": {},
     "inputWidgets": {},
     "nuid": "7648b10d-366c-43cd-b5e1-e97ef35f1275",
     "showTitle": false,
     "tableResultSettingsMap": {},
     "title": ""
    }
   },
   "outputs": [],
   "source": [
    "predict_steps_2 = len(y_test_2)\n",
    "last_window = pd.concat([y_train, y_test_1], axis=0)\n",
    "\n",
    "y_pred_2 = forecaster.predict(steps=predict_steps_2, last_window=last_window, exog=X_test_2)"
   ]
  },
  {
   "cell_type": "code",
   "execution_count": 0,
   "metadata": {
    "application/vnd.databricks.v1+cell": {
     "cellMetadata": {},
     "inputWidgets": {},
     "nuid": "b98eb2e3-a045-4077-97a3-e7034dd00446",
     "showTitle": false,
     "tableResultSettingsMap": {},
     "title": ""
    }
   },
   "outputs": [],
   "source": [
    "fig, ax = plt.subplots(1, 1, figsize=(8, 4))\n",
    "\n",
    "y_test_1.plot(ax=ax, label=\"test_1\", color=\"y\")\n",
    "bt_prediction[\"pred\"].plot(ax=ax, label=\"bt pred\", color=\"b\")\n",
    "y_test_2.plot(ax=ax, label=\"test_2\", color=\"y\")\n",
    "y_pred_2.plot(ax=ax, label=\"pred_2\", color=\"g\")\n",
    "fig.legend()"
   ]
  },
  {
   "cell_type": "markdown",
   "metadata": {
    "application/vnd.databricks.v1+cell": {
     "cellMetadata": {},
     "inputWidgets": {},
     "nuid": "e7eb321c-892f-47ab-9041-e42544b7d0ce",
     "showTitle": false,
     "tableResultSettingsMap": {},
     "title": ""
    }
   },
   "source": [
    "#### Predict + prediction interval con bootstrap"
   ]
  },
  {
   "cell_type": "markdown",
   "metadata": {
    "application/vnd.databricks.v1+cell": {
     "cellMetadata": {},
     "inputWidgets": {},
     "nuid": "d6f5bedd-ae20-4d70-9692-552856f7bd37",
     "showTitle": false,
     "tableResultSettingsMap": {},
     "title": ""
    }
   },
   "source": [
    "https://skforecast.org/0.14.0/user_guides/probabilistic-forecasting.html"
   ]
  },
  {
   "cell_type": "code",
   "execution_count": 0,
   "metadata": {
    "application/vnd.databricks.v1+cell": {
     "cellMetadata": {},
     "inputWidgets": {},
     "nuid": "d39d110f-9593-4061-b073-20aeb5e51e13",
     "showTitle": false,
     "tableResultSettingsMap": {},
     "title": ""
    }
   },
   "outputs": [],
   "source": [
    "def get_coverage(y_true, y_lower, y_upper):\n",
    "    inside_interval = np.where((y_true >= y_lower) & (y_true <= y_upper), True, False)\n",
    "    return inside_interval.mean()"
   ]
  },
  {
   "cell_type": "code",
   "execution_count": 0,
   "metadata": {
    "application/vnd.databricks.v1+cell": {
     "cellMetadata": {},
     "inputWidgets": {},
     "nuid": "ee73e112-e773-43ae-83f3-208d311870e0",
     "showTitle": false,
     "tableResultSettingsMap": {},
     "title": ""
    }
   },
   "outputs": [],
   "source": [
    "def plot_pi(y_true, y_pred, y_lb, y_ub, lbl_pi):\n",
    "\n",
    "    for ind in (y_pred.index, y_lb.index, y_ub.index):\n",
    "        assert y_true.index.equals(ind)\n",
    "\n",
    "    fig, ax = plt.subplots(1, 1, figsize=(8, 4))\n",
    "\n",
    "    y_true.plot(ax=ax, label=\"true\", color=\"k\", linestyle=\"--\")\n",
    "\n",
    "    ax.fill_between(y_lb.index, y_lb, y_ub, color=\"deepskyblue\", alpha=0.9, label=lbl_pi)\n",
    "\n",
    "    out_of_bounds = (y_true < y_lb) | (y_true > y_ub)\n",
    "    ax.vlines(\n",
    "        y_true.index[out_of_bounds],\n",
    "        ymin=y_lb.min(),\n",
    "        ymax=y_ub.max(),\n",
    "        linewidth=0.5,\n",
    "        color=\"b\",\n",
    "        linestyle=\"--\",\n",
    "        zorder=5,\n",
    "        label=\"True value outside interval\",\n",
    "    )\n",
    "\n",
    "    y_pred.plot(ax=ax, label=\"prediction\", color=\"g\")\n",
    "    # ax.set_xlim('2024-11-01', '2024-12-10')\n",
    "    ax.text(\n",
    "        0.95,\n",
    "        0.05,\n",
    "        f\"coverage = {get_coverage(y_true, y_lb, y_ub):.2f}\",\n",
    "        transform=ax.transAxes,\n",
    "        fontsize=7,\n",
    "        verticalalignment=\"bottom\",\n",
    "        horizontalalignment=\"right\",\n",
    "        color=\"black\",\n",
    "    )\n",
    "    ax.text(\n",
    "        0.95,\n",
    "        0.00,\n",
    "        f\"mae = {mean_absolute_error(y_true, y_pred):.0f}\",\n",
    "        transform=ax.transAxes,\n",
    "        fontsize=7,\n",
    "        verticalalignment=\"bottom\",\n",
    "        horizontalalignment=\"right\",\n",
    "        color=\"black\",\n",
    "    )\n",
    "\n",
    "    fig.legend(loc=\"lower left\")\n"
   ]
  },
  {
   "cell_type": "code",
   "execution_count": 0,
   "metadata": {
    "application/vnd.databricks.v1+cell": {
     "cellMetadata": {},
     "inputWidgets": {},
     "nuid": "8af0213e-3a0f-477a-932e-6af2125e355f",
     "showTitle": false,
     "tableResultSettingsMap": {},
     "title": ""
    }
   },
   "outputs": [],
   "source": [
    "forecaster.set_out_sample_residuals(y_true=y_test_1.loc[bt_prediction.index], y_pred=bt_prediction[\"pred\"])\n",
    "\n",
    "predict_steps_2 = len(y_test_2)\n",
    "last_window = pd.concat([y_train, y_test_1], axis=0)"
   ]
  },
  {
   "cell_type": "code",
   "execution_count": 0,
   "metadata": {
    "application/vnd.databricks.v1+cell": {
     "cellMetadata": {},
     "inputWidgets": {},
     "nuid": "4dc86c55-a596-419e-96cb-6d0364113e5c",
     "showTitle": false,
     "tableResultSettingsMap": {},
     "title": ""
    }
   },
   "outputs": [],
   "source": [
    "pred_2_ord = forecaster.predict_interval(\n",
    "    steps=predict_steps_2,\n",
    "    last_window=last_window,\n",
    "    exog=X_test_2,\n",
    "    interval=[10, 90],\n",
    "    n_boot=20,  # default 250, spesso usano 1000\n",
    "    use_in_sample_residuals=False,  # True -> usa quelli ricavati in training set\n",
    "    use_binned_residuals=False,  # feature sperimentale, per condizionare i residui alla predizione\n",
    ")"
   ]
  },
  {
   "cell_type": "code",
   "execution_count": 0,
   "metadata": {
    "application/vnd.databricks.v1+cell": {
     "cellMetadata": {},
     "inputWidgets": {},
     "nuid": "3ac71fac-8bbc-4439-afba-185edbc63f26",
     "showTitle": false,
     "tableResultSettingsMap": {},
     "title": ""
    }
   },
   "outputs": [],
   "source": [
    "plot_pi(\n",
    "    y_true=y_test_2,\n",
    "    y_pred=pred_2_ord[\"pred\"],\n",
    "    y_lb=pred_2_ord[\"lower_bound\"],\n",
    "    y_ub=pred_2_ord[\"upper_bound\"],\n",
    "    lbl_pi=\"ordinary bs PI\",\n",
    ")"
   ]
  }
 ],
 "metadata": {
  "application/vnd.databricks.v1+notebook": {
   "computePreferences": null,
   "dashboards": [],
   "environmentMetadata": null,
   "inputWidgetPreferences": null,
   "language": "python",
   "notebookMetadata": {
    "pythonIndentUnit": 4
   },
   "notebookName": "example",
   "widgets": {}
  },
  "kernelspec": {
   "display_name": "xgbf_20250124",
   "language": "python",
   "name": "python3"
  },
  "language_info": {
   "name": "python"
  },
  "vscode": {
   "interpreter": {
    "hash": "aa1479d08bf957b89dea00c29dd9616babcfe7207715bd5910267875e0738916"
   }
  }
 },
 "nbformat": 4,
 "nbformat_minor": 0
}
