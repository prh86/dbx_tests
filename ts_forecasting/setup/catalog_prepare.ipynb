{
 "cells": [
  {
   "cell_type": "markdown",
   "metadata": {
    "application/vnd.databricks.v1+cell": {
     "cellMetadata": {
      "byteLimit": 2048000,
      "rowLimit": 10000
     },
     "inputWidgets": {},
     "nuid": "5cc16250-f748-425f-9eae-72d129679fd8",
     "showTitle": false,
     "tableResultSettingsMap": {},
     "title": ""
    }
   },
   "source": [
    "# Struttura richiesta del Catalogo Databricks\n",
    "\n",
    "## Unity Catalog\n",
    "- Catalog: ts_catalog\n",
    "  - Schema: ts_data\n",
    "    - Volume: ts_input\n",
    "    - Volume: ts_input_clean\n",
    "    - Volume: ts_output\n",
    "\n",
    "Per semplicità puoi fare run della cella sql sottostante."
   ]
  },
  {
   "cell_type": "code",
   "execution_count": 0,
   "metadata": {
    "application/vnd.databricks.v1+cell": {
     "cellMetadata": {
      "byteLimit": 2048000,
      "implicitDf": true,
      "rowLimit": 10000
     },
     "inputWidgets": {},
     "nuid": "221bd571-e5bd-4d56-a1ef-b56f502c012f",
     "showTitle": false,
     "tableResultSettingsMap": {},
     "title": ""
    }
   },
   "outputs": [],
   "source": [
    "%sql\n",
    "CREATE CATALOG IF NOT EXISTS ts_catalog;\n",
    "CREATE SCHEMA IF NOT EXISTS ts_catalog.ts_data;\n",
    "CREATE VOLUME IF NOT EXISTS ts_catalog.ts_data.ts_input;\n",
    "CREATE VOLUME IF NOT EXISTS ts_catalog.ts_data.ts_input_clean;\n",
    "CREATE VOLUME IF NOT EXISTS ts_catalog.ts_data.ts_output;\n"
   ]
  }
 ],
 "metadata": {
  "application/vnd.databricks.v1+notebook": {
   "computePreferences": null,
   "dashboards": [],
   "environmentMetadata": {
    "base_environment": "",
    "environment_version": "2"
   },
   "inputWidgetPreferences": null,
   "language": "python",
   "notebookMetadata": {
    "mostRecentlyExecutedCommandWithImplicitDF": {
     "commandId": 8126016878985214,
     "dataframes": [
      "_sqldf"
     ]
    },
    "pythonIndentUnit": 4
   },
   "notebookName": "catalog_prepare",
   "widgets": {}
  },
  "language_info": {
   "name": "python"
  }
 },
 "nbformat": 4,
 "nbformat_minor": 0
}
