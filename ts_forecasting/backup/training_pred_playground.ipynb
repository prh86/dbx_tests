{
 "cells": [
  {
   "cell_type": "code",
   "execution_count": 0,
   "metadata": {
    "application/vnd.databricks.v1+cell": {
     "cellMetadata": {
      "byteLimit": 2048000,
      "rowLimit": 10000
     },
     "inputWidgets": {},
     "nuid": "49806ed4-2358-40a1-8383-341ef4013793",
     "showTitle": false,
     "tableResultSettingsMap": {},
     "title": ""
    }
   },
   "outputs": [],
   "source": [
    "%pip install holidays tqdm skforecast==0.14.0 scikit-learn==1.5.0 xgboost==2.1.3 matplotlib==3.10.0"
   ]
  },
  {
   "cell_type": "code",
   "execution_count": 0,
   "metadata": {
    "application/vnd.databricks.v1+cell": {
     "cellMetadata": {
      "byteLimit": 2048000,
      "rowLimit": 10000
     },
     "inputWidgets": {},
     "nuid": "5f28ad4e-1590-40c0-83d5-2168dacf7c49",
     "showTitle": false,
     "tableResultSettingsMap": {},
     "title": ""
    }
   },
   "outputs": [],
   "source": [
    "dbutils.library.restartPython()"
   ]
  },
  {
   "cell_type": "code",
   "execution_count": 0,
   "metadata": {
    "application/vnd.databricks.v1+cell": {
     "cellMetadata": {
      "byteLimit": 2048000,
      "rowLimit": 10000
     },
     "inputWidgets": {},
     "nuid": "492d53f3-cb9a-40dc-b5b7-166e7a34ce60",
     "showTitle": false,
     "tableResultSettingsMap": {},
     "title": ""
    }
   },
   "outputs": [],
   "source": [
    "import pandas as pd\n",
    "import numpy as np\n",
    "import matplotlib.pyplot as plt\n",
    "from functools import partial\n",
    "from sklearn.model_selection import TimeSeriesSplit\n",
    "from sklearn.metrics import mean_absolute_error\n",
    "from tqdm import tqdm\n",
    "\n",
    "from exog import get_day, get_dayofweek, get_month\n",
    "from cust_holidays import get_all_holidays\n",
    "from ts_ops import resample\n",
    "\n",
    "pd.options.display.float_format = \"{:,.2f}\".format"
   ]
  },
  {
   "cell_type": "code",
   "execution_count": 0,
   "metadata": {
    "application/vnd.databricks.v1+cell": {
     "cellMetadata": {
      "byteLimit": 2048000,
      "rowLimit": 10000
     },
     "inputWidgets": {},
     "nuid": "7f47c717-c857-437f-8323-46a2195481f0",
     "showTitle": false,
     "tableResultSettingsMap": {},
     "title": ""
    }
   },
   "outputs": [],
   "source": [
    "DATE_COL = \"SETTLEMENT_DATE\"\n",
    "AMOUNT_COL = \"AMOUNT\"\n",
    "INPUT_DATA_PATH = \"/Volumes/ts_catalog/ts_data/ts_input/serie_clean\"\n",
    "MODEL_PATH = \"/notebooks/dbx/forecaster.joblib\""
   ]
  },
  {
   "cell_type": "code",
   "execution_count": 0,
   "metadata": {
    "application/vnd.databricks.v1+cell": {
     "cellMetadata": {
      "byteLimit": 2048000,
      "rowLimit": 10000
     },
     "inputWidgets": {},
     "nuid": "c90e72b9-4428-454e-b2b9-e66d15654844",
     "showTitle": false,
     "tableResultSettingsMap": {},
     "title": ""
    }
   },
   "outputs": [],
   "source": [
    "loaded_spark_df = spark.read.format(\"delta\").load(INPUT_DATA_PATH)\n",
    "data = loaded_spark_df.toPandas()"
   ]
  },
  {
   "cell_type": "code",
   "execution_count": 0,
   "metadata": {
    "application/vnd.databricks.v1+cell": {
     "cellMetadata": {
      "byteLimit": 2048000,
      "rowLimit": 10000
     },
     "inputWidgets": {},
     "nuid": "12da0361-bbf1-4386-9dea-7cdf7a5290b1",
     "showTitle": false,
     "tableResultSettingsMap": {},
     "title": ""
    }
   },
   "outputs": [],
   "source": [
    "data.index = data[DATE_COL]\n",
    "data = data.asfreq('B')"
   ]
  },
  {
   "cell_type": "code",
   "execution_count": 0,
   "metadata": {
    "application/vnd.databricks.v1+cell": {
     "cellMetadata": {
      "byteLimit": 2048000,
      "rowLimit": 10000
     },
     "inputWidgets": {},
     "nuid": "9d30bf8b-0781-456d-8515-53f212571f1b",
     "showTitle": false,
     "tableResultSettingsMap": {},
     "title": ""
    }
   },
   "outputs": [],
   "source": [
    "data"
   ]
  },
  {
   "cell_type": "code",
   "execution_count": 0,
   "metadata": {
    "application/vnd.databricks.v1+cell": {
     "cellMetadata": {
      "byteLimit": 2048000,
      "rowLimit": 10000
     },
     "inputWidgets": {},
     "nuid": "bade33be-c78c-4d89-86ed-7f6355863ece",
     "showTitle": false,
     "tableResultSettingsMap": {},
     "title": ""
    }
   },
   "outputs": [],
   "source": [
    "features_exog = {\n",
    "    \"day\": partial(get_day, date_col=DATE_COL),\n",
    "    \"month\": partial(get_month, date_col=DATE_COL),\n",
    "    \"day_of_week\": partial(get_dayofweek, date_col=DATE_COL)\n",
    "}\n",
    "\n",
    "lags = []"
   ]
  },
  {
   "cell_type": "code",
   "execution_count": 0,
   "metadata": {
    "application/vnd.databricks.v1+cell": {
     "cellMetadata": {
      "byteLimit": 2048000,
      "rowLimit": 10000
     },
     "inputWidgets": {},
     "nuid": "974e8fd6-7840-4a1e-a45f-fa7488d6e2e7",
     "showTitle": false,
     "tableResultSettingsMap": {},
     "title": ""
    }
   },
   "outputs": [],
   "source": [
    "def apply_functions(y, features_to_func):\n",
    "    cols = []\n",
    "    for fn in features_to_func:\n",
    "        cols.append(y.apply(features_to_func[fn], axis=1).rename(fn))\n",
    "    df_out = pd.concat(cols, axis=1)\n",
    "    df_out.index = y.index\n",
    "    return df_out"
   ]
  },
  {
   "cell_type": "markdown",
   "metadata": {
    "application/vnd.databricks.v1+cell": {
     "cellMetadata": {
      "byteLimit": 2048000,
      "rowLimit": 10000
     },
     "inputWidgets": {},
     "nuid": "5b2d4f64-a193-49f8-b9c3-9b22a14e9c07",
     "showTitle": false,
     "tableResultSettingsMap": {},
     "title": ""
    }
   },
   "source": [
    "#### experiment parameters"
   ]
  },
  {
   "cell_type": "code",
   "execution_count": 0,
   "metadata": {
    "application/vnd.databricks.v1+cell": {
     "cellMetadata": {
      "byteLimit": 2048000,
      "rowLimit": 10000
     },
     "inputWidgets": {},
     "nuid": "d400c08a-1283-4fcf-9fbb-1fcd0a34d377",
     "showTitle": false,
     "tableResultSettingsMap": {},
     "title": ""
    }
   },
   "outputs": [],
   "source": [
    "date_thr_0 = \"2024-08-01\"  # train - test_1 threshold\n",
    "length_window_0 = 120  # approx steps for test_1\n",
    "length_window_1 = 60  # approx steps for test_2"
   ]
  },
  {
   "cell_type": "code",
   "execution_count": 0,
   "metadata": {
    "application/vnd.databricks.v1+cell": {
     "cellMetadata": {
      "byteLimit": 2048000,
      "rowLimit": 10000
     },
     "inputWidgets": {},
     "nuid": "b661f10f-2e78-4aab-a8e7-10addc8125a5",
     "showTitle": false,
     "tableResultSettingsMap": {},
     "title": ""
    }
   },
   "outputs": [],
   "source": [
    "X = apply_functions(data, features_exog)\n",
    "y = data[AMOUNT_COL]"
   ]
  },
  {
   "cell_type": "code",
   "execution_count": 0,
   "metadata": {
    "application/vnd.databricks.v1+cell": {
     "cellMetadata": {
      "byteLimit": 2048000,
      "rowLimit": 10000
     },
     "inputWidgets": {},
     "nuid": "947fc9e2-59a5-4003-a660-192beb324f8c",
     "showTitle": false,
     "tableResultSettingsMap": {},
     "title": ""
    }
   },
   "outputs": [],
   "source": [
    "X"
   ]
  },
  {
   "cell_type": "code",
   "execution_count": 0,
   "metadata": {
    "application/vnd.databricks.v1+cell": {
     "cellMetadata": {
      "byteLimit": 2048000,
      "rowLimit": 10000
     },
     "inputWidgets": {},
     "nuid": "a7692f55-e557-44f8-bcbd-1512e827152d",
     "showTitle": false,
     "tableResultSettingsMap": {},
     "title": ""
    }
   },
   "outputs": [],
   "source": [
    "y"
   ]
  },
  {
   "cell_type": "markdown",
   "metadata": {
    "application/vnd.databricks.v1+cell": {
     "cellMetadata": {
      "byteLimit": 2048000,
      "rowLimit": 10000
     },
     "inputWidgets": {},
     "nuid": "5da2c0e9-9673-4343-ac50-e0ce3217afc6",
     "showTitle": false,
     "tableResultSettingsMap": {},
     "title": ""
    }
   },
   "source": [
    "#### Variabili rolling"
   ]
  },
  {
   "cell_type": "code",
   "execution_count": 0,
   "metadata": {
    "application/vnd.databricks.v1+cell": {
     "cellMetadata": {
      "byteLimit": 2048000,
      "rowLimit": 10000
     },
     "inputWidgets": {},
     "nuid": "d5425293-3084-4a38-a91b-68f1d8b53a54",
     "showTitle": false,
     "tableResultSettingsMap": {},
     "title": ""
    }
   },
   "outputs": [],
   "source": [
    "from skforecast.preprocessing import RollingFeatures\n",
    "\n",
    "# for custom window features..\n",
    "# https://skforecast.org/0.14.0/user_guides/window-features-and-custom-features.html\n",
    "\n",
    "window_features = RollingFeatures(\n",
    "    stats=[\"mean\", \"mean\", \"std\", \"std\", \"coef_variation\"], window_sizes=[10, 5, 10, 5, 10]\n",
    ")"
   ]
  },
  {
   "cell_type": "code",
   "execution_count": 0,
   "metadata": {
    "application/vnd.databricks.v1+cell": {
     "cellMetadata": {
      "byteLimit": 2048000,
      "rowLimit": 10000
     },
     "inputWidgets": {},
     "nuid": "aa7a00e3-7fc9-4116-95b9-61314789948e",
     "showTitle": false,
     "tableResultSettingsMap": {},
     "title": ""
    }
   },
   "outputs": [],
   "source": [
    "y.index.min(), y.index.max()"
   ]
  },
  {
   "cell_type": "markdown",
   "metadata": {
    "application/vnd.databricks.v1+cell": {
     "cellMetadata": {
      "byteLimit": 2048000,
      "rowLimit": 10000
     },
     "inputWidgets": {},
     "nuid": "8da3c4f8-bfc5-4b9c-9514-5507c9104c97",
     "showTitle": false,
     "tableResultSettingsMap": {},
     "title": ""
    }
   },
   "source": [
    "#### Train/test split"
   ]
  },
  {
   "cell_type": "code",
   "execution_count": 0,
   "metadata": {
    "application/vnd.databricks.v1+cell": {
     "cellMetadata": {
      "byteLimit": 2048000,
      "rowLimit": 10000
     },
     "inputWidgets": {},
     "nuid": "6d585269-e0f8-4e02-8dd9-a0fd879aef22",
     "showTitle": false,
     "tableResultSettingsMap": {},
     "title": ""
    }
   },
   "outputs": [],
   "source": [
    "years_of_interest = list(range(pd.Timestamp.today().year - 5, pd.Timestamp.today().year + 2))\n",
    "print(years_of_interest)\n",
    "list_holidays = [x.strftime(\"%Y-%m-%d\") for x in get_all_holidays(years_of_interest)]"
   ]
  },
  {
   "cell_type": "code",
   "execution_count": 0,
   "metadata": {
    "application/vnd.databricks.v1+cell": {
     "cellMetadata": {
      "byteLimit": 2048000,
      "rowLimit": 10000
     },
     "inputWidgets": {},
     "nuid": "02631b31-bfb1-4af8-86da-8e6408c59d0f",
     "showTitle": false,
     "tableResultSettingsMap": {},
     "title": ""
    }
   },
   "outputs": [],
   "source": [
    "date_thr_1 = pd.to_datetime(date_thr_0) + pd.offsets.CustomBusinessDay(length_window_0, holidays=list_holidays)\n",
    "date_thr_2 = pd.to_datetime(date_thr_1) + pd.offsets.CustomBusinessDay(length_window_1, holidays=list_holidays)\n",
    "\n",
    "y_train = y.loc[y.index < date_thr_0]\n",
    "y_test_1 = y.loc[(y.index >= date_thr_0) & (y.index < date_thr_1)]\n",
    "y_test_2 = y.loc[(y.index >= date_thr_1) & (y.index < date_thr_2)]\n",
    "\n",
    "X_train = X.loc[y_train.index]\n",
    "X_test_1 = X.loc[y_test_1.index]\n",
    "X_test_2 = X.loc[y_test_2.index]"
   ]
  },
  {
   "cell_type": "code",
   "execution_count": 0,
   "metadata": {
    "application/vnd.databricks.v1+cell": {
     "cellMetadata": {
      "byteLimit": 2048000,
      "rowLimit": 10000
     },
     "inputWidgets": {},
     "nuid": "ba85f305-1ebd-4da6-8786-1fd0ccf8029e",
     "showTitle": false,
     "tableResultSettingsMap": {},
     "title": ""
    }
   },
   "outputs": [],
   "source": [
    "y_train.shape, y_test_1.shape, y_test_2.shape"
   ]
  },
  {
   "cell_type": "code",
   "execution_count": 0,
   "metadata": {
    "application/vnd.databricks.v1+cell": {
     "cellMetadata": {
      "byteLimit": 2048000,
      "rowLimit": 10000
     },
     "inputWidgets": {},
     "nuid": "498800a5-f579-447e-956a-1b13626f7c78",
     "showTitle": false,
     "tableResultSettingsMap": {},
     "title": ""
    }
   },
   "outputs": [],
   "source": [
    "window_features.transform_batch(y).head(10)"
   ]
  },
  {
   "cell_type": "markdown",
   "metadata": {
    "application/vnd.databricks.v1+cell": {
     "cellMetadata": {
      "byteLimit": 2048000,
      "rowLimit": 10000
     },
     "inputWidgets": {},
     "nuid": "e9a0414f-2143-4527-9606-6d5203e92110",
     "showTitle": false,
     "tableResultSettingsMap": {},
     "title": ""
    }
   },
   "source": [
    "#### Definizione Forecaster"
   ]
  },
  {
   "cell_type": "code",
   "execution_count": 0,
   "metadata": {
    "application/vnd.databricks.v1+cell": {
     "cellMetadata": {
      "byteLimit": 2048000,
      "rowLimit": 10000
     },
     "inputWidgets": {},
     "nuid": "d893584b-c583-4af9-b7d2-c39cd5f3306e",
     "showTitle": false,
     "tableResultSettingsMap": {},
     "title": ""
    }
   },
   "outputs": [],
   "source": [
    "from skforecast.model_selection import TimeSeriesFold\n",
    "\n",
    "lags_grid = [11, 22]\n",
    "param_grid = {\n",
    "    \"learning_rate\": [0.05], #, 0.1],\n",
    "    \"max_depth\": [5, 6], #, 7],\n",
    "    \"n_estimators\": [50], #, 100, 200],\n",
    "    \"colsample_bytree\": [0.5], #, 1],\n",
    "}\n",
    "\n",
    "\n",
    "cv = TimeSeriesFold(\n",
    "    steps=60,\n",
    "    initial_train_size=60,\n",
    "    gap=0,\n",
    "    refit=True,\n",
    "    fixed_train_size=False,\n",
    ")"
   ]
  },
  {
   "cell_type": "code",
   "execution_count": 0,
   "metadata": {
    "application/vnd.databricks.v1+cell": {
     "cellMetadata": {
      "byteLimit": 2048000,
      "rowLimit": 10000
     },
     "inputWidgets": {},
     "nuid": "6a072288-b290-4626-a4b4-b761250087ab",
     "showTitle": false,
     "tableResultSettingsMap": {},
     "title": ""
    }
   },
   "outputs": [],
   "source": [
    "from xgboost import XGBRegressor\n",
    "from skforecast.recursive import ForecasterRecursive"
   ]
  },
  {
   "cell_type": "code",
   "execution_count": 0,
   "metadata": {
    "application/vnd.databricks.v1+cell": {
     "cellMetadata": {
      "byteLimit": 2048000,
      "rowLimit": 10000
     },
     "inputWidgets": {},
     "nuid": "ad5059f2-d806-4f43-a6fa-99046b1167fb",
     "showTitle": false,
     "tableResultSettingsMap": {},
     "title": ""
    }
   },
   "outputs": [],
   "source": [
    "forecaster = ForecasterRecursive(\n",
    "    regressor=XGBRegressor(random_state=321),\n",
    "    lags=100,\n",
    "    window_features=window_features,\n",
    "    forecaster_id=\"forecasting_series_y\",\n",
    ")\n",
    "\n",
    "\"\"\"\n",
    "forecaster.fit(\n",
    "    y=y_train,\n",
    "    exog=X_train,\n",
    "    store_last_window=False,\n",
    "    store_in_sample_residuals=True,\n",
    "    random_state=412,\n",
    ")\n",
    "\"\"\""
   ]
  },
  {
   "cell_type": "markdown",
   "metadata": {
    "application/vnd.databricks.v1+cell": {
     "cellMetadata": {
      "byteLimit": 2048000,
      "rowLimit": 10000
     },
     "inputWidgets": {},
     "nuid": "e41414c7-e9d8-456b-af38-870893df1760",
     "showTitle": false,
     "tableResultSettingsMap": {},
     "title": ""
    }
   },
   "source": [
    "#### Grid search"
   ]
  },
  {
   "cell_type": "code",
   "execution_count": 0,
   "metadata": {
    "application/vnd.databricks.v1+cell": {
     "cellMetadata": {
      "byteLimit": 2048000,
      "rowLimit": 10000
     },
     "inputWidgets": {},
     "nuid": "9325909b-e935-4dbd-b4dc-2a9bc8b30e6c",
     "showTitle": false,
     "tableResultSettingsMap": {},
     "title": ""
    }
   },
   "outputs": [],
   "source": [
    "from skforecast.model_selection import grid_search_forecaster"
   ]
  },
  {
   "cell_type": "code",
   "execution_count": 0,
   "metadata": {
    "application/vnd.databricks.v1+cell": {
     "cellMetadata": {
      "byteLimit": 2048000,
      "rowLimit": 10000
     },
     "inputWidgets": {},
     "nuid": "d8714c78-cfc7-4f52-ae78-963b1f60bfc6",
     "showTitle": false,
     "tableResultSettingsMap": {},
     "title": ""
    }
   },
   "outputs": [],
   "source": [
    "\n",
    "\n",
    "results_grid = grid_search_forecaster(\n",
    "    forecaster=forecaster,\n",
    "    y=y_train,\n",
    "    exog=X_train,\n",
    "    cv=cv,\n",
    "    param_grid=param_grid,\n",
    "    lags_grid=lags_grid,\n",
    "    metric=\"mean_absolute_error\",\n",
    "    return_best=True,\n",
    "    verbose=False,\n",
    "    show_progress=True,\n",
    "    n_jobs=6,\n",
    ")\n",
    "\n"
   ]
  },
  {
   "cell_type": "code",
   "execution_count": 0,
   "metadata": {
    "application/vnd.databricks.v1+cell": {
     "cellMetadata": {
      "byteLimit": 2048000,
      "rowLimit": 10000
     },
     "inputWidgets": {},
     "nuid": "ddc0ea01-b612-4f98-a866-765cf35924f0",
     "showTitle": false,
     "tableResultSettingsMap": {},
     "title": ""
    }
   },
   "outputs": [],
   "source": [
    "import tempfile\n",
    "import mlflow\n",
    "import mlflow.sklearn\n",
    "from skforecast.utils import save_forecaster\n",
    "from skforecast.utils import load_forecaster\n",
    "\n",
    "def train_and_log_forecaster(\n",
    "    forecaster,\n",
    "    y_train,\n",
    "    X_train,\n",
    "    cv,\n",
    "    param_grid,\n",
    "    lags_grid,\n",
    "    window_features,\n",
    "    experiment_name,\n",
    "    model_name\n",
    "):\n",
    "    mlflow.set_experiment(experiment_name)\n",
    "    with mlflow.start_run(run_name=\"xgb_forecaster_tuning\") as run:\n",
    "        # Grid search\n",
    "        results_grid = grid_search_forecaster(\n",
    "            forecaster=forecaster,\n",
    "            y=y_train,\n",
    "            exog=X_train,\n",
    "            cv=cv,\n",
    "            param_grid=param_grid,\n",
    "            lags_grid=lags_grid,\n",
    "            metric=\"mean_absolute_error\",\n",
    "            return_best=True,\n",
    "            verbose=False,\n",
    "            show_progress=True,\n",
    "            n_jobs=6,\n",
    "        )\n",
    "        # Log best parameters and metric\n",
    "        best_params = results_grid.loc[0, \"params\"]\n",
    "        best_lags = results_grid.loc[0, \"lags\"]\n",
    "        best_metric = results_grid.loc[0, \"mean_absolute_error\"]\n",
    "        mlflow.log_params(best_params)\n",
    "        mlflow.log_param(\"lags\", best_lags)\n",
    "        mlflow.log_metric(\"mean_absolute_error\", best_metric)\n",
    "        \n",
    "        with tempfile.TemporaryDirectory() as tmp_dir:\n",
    "            model_path = os.path.join(tmp_dir, \"forecaster.pkl\")\n",
    "            save_forecaster(forecaster, file_name=model_path, verbose=False)\n",
    "            mlflow.log_artifact(model_path, artifact_path=\"model\")\n",
    "\n",
    "            feature_importance = forecaster.get_feature_importances(sort_importance=True)\n",
    "            fi_path = os.path.join(tmp_dir, \"feature_importance.csv\")\n",
    "            feature_importance.to_csv(fi_path)\n",
    "            mlflow.log_artifact(fi_path, artifact_path=\"feature_importance\")\n",
    "\n",
    "        mlflow.register_model(\n",
    "                model_uri=f\"runs:/{run.info.run_id}/model/forecaster.pkl\",\n",
    "                name=model_name\n",
    "            )\n",
    "\n",
    "    return results_grid\n"
   ]
  },
  {
   "cell_type": "code",
   "execution_count": 0,
   "metadata": {
    "application/vnd.databricks.v1+cell": {
     "cellMetadata": {
      "byteLimit": 2048000,
      "rowLimit": 10000
     },
     "inputWidgets": {},
     "nuid": "f6669936-8c7a-4749-b05c-e5df9b9901a0",
     "showTitle": false,
     "tableResultSettingsMap": {},
     "title": ""
    }
   },
   "outputs": [],
   "source": [
    "import os\n",
    "from datetime import datetime\n",
    "os.environ['MLFLOW_USE_DATABRICKS_SDK_MODEL_ARTIFACTS_REPO_FOR_UC'] = 'True'\n",
    "\n",
    "mlflow.set_registry_uri(\"databricks-uc\")\n",
    "\n",
    "catalog = \"ts_catalog\"  # Replace with your Unity Catalog name\n",
    "schema = \"models\"    # Replace with your Unity Catalog schema name\n",
    "\n",
    "user = dbutils.notebook.entry_point.getDbutils().notebook().getContext().userName().get()\n",
    "experiment_name = f\"/Users/{user}/my_forecasting_experiment_{datetime.now().strftime('%Y%m%d_%H%M%S')}\"\n",
    "model_name = f\"{catalog}.{schema}.xgb_forecaster\"\n",
    "\n",
    "results_grid = train_and_log_forecaster(\n",
    "    forecaster=forecaster,\n",
    "    y_train=y_train,\n",
    "    X_train=X_train,\n",
    "    cv=cv,\n",
    "    param_grid=param_grid,\n",
    "    lags_grid=lags_grid,\n",
    "    window_features=window_features,\n",
    "    experiment_name=experiment_name,\n",
    "    model_name=model_name\n",
    ")\n",
    "display(results_grid)"
   ]
  },
  {
   "cell_type": "markdown",
   "metadata": {
    "application/vnd.databricks.v1+cell": {
     "cellMetadata": {},
     "inputWidgets": {},
     "nuid": "8c56cf1f-ed4f-4195-bc8a-0de7beb516fa",
     "showTitle": false,
     "tableResultSettingsMap": {},
     "title": ""
    }
   },
   "source": [
    "### PRove da chatgpt"
   ]
  },
  {
   "cell_type": "code",
   "execution_count": 0,
   "metadata": {
    "application/vnd.databricks.v1+cell": {
     "cellMetadata": {
      "byteLimit": 2048000,
      "rowLimit": 10000
     },
     "inputWidgets": {},
     "nuid": "e2b8ed05-a839-4462-9bf5-7098235fa6a5",
     "showTitle": false,
     "tableResultSettingsMap": {},
     "title": ""
    }
   },
   "outputs": [],
   "source": [
    "import mlflow.pyfunc\n",
    "import pickle\n",
    "\n",
    "class SkforecastWrapper(mlflow.pyfunc.PythonModel):\n",
    "\n",
    "    def load_context(self, context):\n",
    "        # Carica il forecaster serializzato\n",
    "        with open(context.artifacts[\"forecaster\"], \"rb\") as f:\n",
    "            self.forecaster = pickle.load(f)\n",
    "\n",
    "    def predict(self, context, model_input):\n",
    "        \"\"\"\n",
    "        model_input: dict con chiavi:\n",
    "            - 'last_window': pd.Series\n",
    "            - 'exog': pd.DataFrame\n",
    "            - 'steps': int\n",
    "        \"\"\"\n",
    "        # Validazione minima\n",
    "        if not isinstance(model_input, dict):\n",
    "            raise ValueError(\"model_input must be a dict with keys: 'last_window', 'exog', 'steps'.\")\n",
    "\n",
    "        last_window = model_input.get(\"last_window\")\n",
    "        exog = model_input.get(\"exog\")\n",
    "        steps = model_input.get(\"steps\")\n",
    "\n",
    "        if last_window is None or exog is None or steps is None:\n",
    "            raise ValueError(\"Missing one or more required inputs: 'last_window', 'exog', 'steps'.\")\n",
    "\n",
    "        # Previsione\n",
    "        return self.forecaster.predict(\n",
    "            steps=steps,\n",
    "            last_window=last_window,\n",
    "            exog=exog\n",
    "        )\n"
   ]
  },
  {
   "cell_type": "code",
   "execution_count": 0,
   "metadata": {
    "application/vnd.databricks.v1+cell": {
     "cellMetadata": {
      "byteLimit": 2048000,
      "rowLimit": 10000
     },
     "inputWidgets": {},
     "nuid": "b8417ff6-0542-4788-81bd-29a65d8e9ed4",
     "showTitle": false,
     "tableResultSettingsMap": {},
     "title": ""
    }
   },
   "outputs": [],
   "source": [
    "from mlflow.models.signature import ModelSignature\n",
    "from mlflow.types.schema import Schema, ColSpec\n",
    "\n",
    "signature = ModelSignature(\n",
    "    inputs=None,  # oppure una signature adatta al tuo dict serializzato\n",
    "    outputs=Schema([\n",
    "        ColSpec(type=\"double\", name=\"forecast\")\n",
    "    ])\n",
    ")\n"
   ]
  },
  {
   "cell_type": "code",
   "execution_count": 0,
   "metadata": {
    "application/vnd.databricks.v1+cell": {
     "cellMetadata": {
      "byteLimit": 2048000,
      "rowLimit": 10000
     },
     "inputWidgets": {},
     "nuid": "bd853743-5164-4929-8690-fd99b255e711",
     "showTitle": false,
     "tableResultSettingsMap": {},
     "title": ""
    }
   },
   "outputs": [],
   "source": [
    "import mlflow\n",
    "import os\n",
    "import pickle\n",
    "import tempfile\n",
    "\n",
    "mlflow.set_registry_uri(\"databricks\") # you need the Model Registry/UC to be enabled \n",
    "#model_name_uc = \"ts_catalog__models__my_forecaster_pyfunc\" # you need the Model Registry/UC to be enabled\n",
    "\n",
    "user = dbutils.notebook.entry_point.getDbutils().notebook().getContext().userName().get()\n",
    "experiment_name = f\"/Users/{user}/my_forecasting_experiment\"\n",
    "mlflow.set_experiment(experiment_name)\n",
    "with tempfile.NamedTemporaryFile(suffix=\".pkl\", delete=False) as tmp_file:\n",
    "    with open(tmp_file.name, \"wb\") as f:\n",
    "        pickle.dump(forecaster, f)\n",
    "    pickle_path = tmp_file.name\n",
    "\n",
    "with mlflow.start_run(run_name='forecaster_train_run'):\n",
    "    mlflow.pyfunc.log_model(\n",
    "        artifact_path=\"skforecast_model\",\n",
    "        python_model=SkforecastWrapper(),\n",
    "        artifacts={\"forecaster\": pickle_path},\n",
    "        # registered_model_name=model_name_uc, # you need the Model Registry/UC to be enabled\n",
    "        signature=signature\n",
    "    )\n",
    "\n",
    "# (opzionale) rimuovi file temporaneo\n",
    "os.remove(pickle_path)\n"
   ]
  },
  {
   "cell_type": "code",
   "execution_count": 0,
   "metadata": {
    "application/vnd.databricks.v1+cell": {
     "cellMetadata": {
      "byteLimit": 2048000,
      "rowLimit": 10000
     },
     "inputWidgets": {},
     "nuid": "3cabafd0-8ab5-4d3e-8840-33513890c427",
     "showTitle": false,
     "tableResultSettingsMap": {},
     "title": ""
    }
   },
   "outputs": [],
   "source": [
    "import mlflow\n",
    "\n",
    "\n",
    "experiment_id = mlflow.get_experiment_by_name(experiment_name).experiment_id\n",
    "\n",
    "# Search for runs with the given run_name, sorted by start_time descending\n",
    "runs = mlflow.search_runs(\n",
    "    experiment_ids=[experiment_id],\n",
    "    filter_string=\"tags.mlflow.runName = 'forecaster_train_run'\",\n",
    "    order_by=[\"start_time DESC\"]\n",
    ")\n",
    "\n",
    "if not runs.empty:\n",
    "    last_run_id = runs.iloc[0].run_id\n",
    "    print(f\"Last run_id for run_name: {last_run_id}\")\n",
    "    # Load the model\n",
    "    model = mlflow.pyfunc.load_model(f\"runs:/{last_run_id}/skforecast_model\")\n",
    "else:\n",
    "    print(\"No runs found with the given run_name.\")"
   ]
  },
  {
   "cell_type": "code",
   "execution_count": 0,
   "metadata": {
    "application/vnd.databricks.v1+cell": {
     "cellMetadata": {
      "byteLimit": 2048000,
      "rowLimit": 10000
     },
     "inputWidgets": {},
     "nuid": "a36dfd62-703a-45dc-9087-beb55890e0d2",
     "showTitle": false,
     "tableResultSettingsMap": {},
     "title": ""
    }
   },
   "outputs": [],
   "source": [
    "input_dict = {\n",
    "    \"last_window\": pd.concat([y_train, y_test_1], axis=0),  # pd.Series\n",
    "    \"exog\": X_test_2,                # pd.DataFrame\n",
    "    \"steps\": len(X_test_2)               # int\n",
    "}\n",
    "\n",
    "model.predict(input_dict)"
   ]
  },
  {
   "cell_type": "code",
   "execution_count": 0,
   "metadata": {
    "application/vnd.databricks.v1+cell": {
     "cellMetadata": {
      "byteLimit": 2048000,
      "rowLimit": 10000
     },
     "inputWidgets": {},
     "nuid": "fb5f3aa4-3edc-4f06-a6e3-2af7068a9628",
     "showTitle": false,
     "tableResultSettingsMap": {},
     "title": ""
    }
   },
   "outputs": [],
   "source": [
    "forecaster.regressor.get_params()"
   ]
  },
  {
   "cell_type": "code",
   "execution_count": 0,
   "metadata": {
    "application/vnd.databricks.v1+cell": {
     "cellMetadata": {
      "byteLimit": 2048000,
      "rowLimit": 10000
     },
     "inputWidgets": {},
     "nuid": "bdf2cc6c-231a-4bd2-9fd1-d5915584e06c",
     "showTitle": false,
     "tableResultSettingsMap": {},
     "title": ""
    }
   },
   "outputs": [],
   "source": [
    "X_example, y_example = forecaster.create_train_X_y(y=y_train)\n",
    "print(X_example.columns.tolist())"
   ]
  },
  {
   "cell_type": "markdown",
   "metadata": {
    "application/vnd.databricks.v1+cell": {
     "cellMetadata": {
      "byteLimit": 2048000,
      "rowLimit": 10000
     },
     "inputWidgets": {},
     "nuid": "00e5060d-c657-409f-8b31-ded7fbe7fbb2",
     "showTitle": false,
     "tableResultSettingsMap": {},
     "title": ""
    }
   },
   "source": [
    "#### Feature importance"
   ]
  },
  {
   "cell_type": "code",
   "execution_count": 0,
   "metadata": {
    "application/vnd.databricks.v1+cell": {
     "cellMetadata": {
      "byteLimit": 2048000,
      "rowLimit": 10000
     },
     "inputWidgets": {},
     "nuid": "0339563d-41b4-4830-960d-3693147e547b",
     "showTitle": false,
     "tableResultSettingsMap": {},
     "title": ""
    }
   },
   "outputs": [],
   "source": [
    "fi = forecaster.get_feature_importances(sort_importance=True)\n",
    "fi"
   ]
  },
  {
   "cell_type": "markdown",
   "metadata": {
    "application/vnd.databricks.v1+cell": {
     "cellMetadata": {
      "byteLimit": 2048000,
      "rowLimit": 10000
     },
     "inputWidgets": {},
     "nuid": "307f7663-370e-4214-ba6f-5c7aaf46722c",
     "showTitle": false,
     "tableResultSettingsMap": {},
     "title": ""
    }
   },
   "source": [
    "#### Model save/load"
   ]
  },
  {
   "cell_type": "code",
   "execution_count": 0,
   "metadata": {
    "application/vnd.databricks.v1+cell": {
     "cellMetadata": {
      "byteLimit": 2048000,
      "rowLimit": 10000
     },
     "inputWidgets": {},
     "nuid": "44cddb52-e217-4940-927c-b087f1836f8b",
     "showTitle": false,
     "tableResultSettingsMap": {},
     "title": ""
    }
   },
   "outputs": [],
   "source": [
    "from skforecast.utils import save_forecaster\n",
    "from skforecast.utils import load_forecaster\n",
    "\n",
    "save_forecaster(forecaster, file_name=MODEL_PATH, verbose=True)"
   ]
  },
  {
   "cell_type": "code",
   "execution_count": 0,
   "metadata": {
    "application/vnd.databricks.v1+cell": {
     "cellMetadata": {
      "byteLimit": 2048000,
      "rowLimit": 10000
     },
     "inputWidgets": {},
     "nuid": "99e269eb-9231-404e-996f-afe5ab58c78b",
     "showTitle": false,
     "tableResultSettingsMap": {},
     "title": ""
    }
   },
   "outputs": [],
   "source": [
    "forecaster = load_forecaster(MODEL_PATH, verbose=True)"
   ]
  },
  {
   "cell_type": "markdown",
   "metadata": {
    "application/vnd.databricks.v1+cell": {
     "cellMetadata": {
      "byteLimit": 2048000,
      "rowLimit": 10000
     },
     "inputWidgets": {},
     "nuid": "3fa5024b-06cc-4919-9463-4a55e76aed30",
     "showTitle": false,
     "tableResultSettingsMap": {},
     "title": ""
    }
   },
   "source": [
    "#### Predict su periodo adiacente il training set"
   ]
  },
  {
   "cell_type": "code",
   "execution_count": 0,
   "metadata": {
    "application/vnd.databricks.v1+cell": {
     "cellMetadata": {
      "byteLimit": 2048000,
      "rowLimit": 10000
     },
     "inputWidgets": {},
     "nuid": "2c245816-3f94-4b64-ad8b-55fa46016caa",
     "showTitle": false,
     "tableResultSettingsMap": {},
     "title": ""
    }
   },
   "outputs": [],
   "source": [
    "from skforecast.model_selection import backtesting_forecaster\n",
    "\n",
    "bt_cv = TimeSeriesFold(steps=60, initial_train_size=len(y_train), refit=False, allow_incomplete_fold=False)\n",
    "\n",
    "bt_metric, bt_prediction = backtesting_forecaster(\n",
    "    forecaster=forecaster,\n",
    "    y=pd.concat([y_train, y_test_1], axis=0),\n",
    "    exog=pd.concat([X_train, X_test_1], axis=0),\n",
    "    cv=bt_cv,\n",
    "    metric=\"mean_absolute_error\",\n",
    "    n_jobs=6,\n",
    "    verbose=True,\n",
    "    show_progress=True,\n",
    ")"
   ]
  },
  {
   "cell_type": "code",
   "execution_count": 0,
   "metadata": {
    "application/vnd.databricks.v1+cell": {
     "cellMetadata": {
      "byteLimit": 2048000,
      "rowLimit": 10000
     },
     "inputWidgets": {},
     "nuid": "d5afe64c-c7d1-4c80-81cd-2df7ca25ac64",
     "showTitle": false,
     "tableResultSettingsMap": {},
     "title": ""
    }
   },
   "outputs": [],
   "source": [
    "bt_metric"
   ]
  },
  {
   "cell_type": "code",
   "execution_count": 0,
   "metadata": {
    "application/vnd.databricks.v1+cell": {
     "cellMetadata": {
      "byteLimit": 2048000,
      "rowLimit": 10000
     },
     "inputWidgets": {},
     "nuid": "ed18985b-4317-4e34-bd19-163438b69e3b",
     "showTitle": false,
     "tableResultSettingsMap": {},
     "title": ""
    }
   },
   "outputs": [],
   "source": [
    "bt_prediction"
   ]
  },
  {
   "cell_type": "code",
   "execution_count": 0,
   "metadata": {
    "application/vnd.databricks.v1+cell": {
     "cellMetadata": {
      "byteLimit": 2048000,
      "rowLimit": 10000
     },
     "inputWidgets": {},
     "nuid": "96a90cef-16d3-474c-b551-11083d19793b",
     "showTitle": false,
     "tableResultSettingsMap": {},
     "title": ""
    }
   },
   "outputs": [],
   "source": [
    "fig, ax = plt.subplots(1, 1, figsize=(8, 4))\n",
    "\n",
    "y_test_1.plot(ax=ax, label=\"test_1\", color=\"y\")\n",
    "bt_prediction[\"pred\"].plot(ax=ax, label=\"bt pred\", color=\"b\")\n",
    "fig.legend()"
   ]
  },
  {
   "cell_type": "code",
   "execution_count": 0,
   "metadata": {
    "application/vnd.databricks.v1+cell": {
     "cellMetadata": {
      "byteLimit": 2048000,
      "rowLimit": 10000
     },
     "inputWidgets": {},
     "nuid": "2c783183-a704-4a2f-a8c6-a9d3226a8bb8",
     "showTitle": false,
     "tableResultSettingsMap": {},
     "title": ""
    }
   },
   "outputs": [],
   "source": [
    "# Predizione in un'unica soluzione\n",
    "'''\n",
    "predict_steps = len(y_test_1)\n",
    "y_pred_1 = forecaster.predict(steps=predict_steps, last_window=y_train, exog=X_test_1)\n",
    "y_pred_1\n",
    "'''"
   ]
  },
  {
   "cell_type": "markdown",
   "metadata": {
    "application/vnd.databricks.v1+cell": {
     "cellMetadata": {
      "byteLimit": 2048000,
      "rowLimit": 10000
     },
     "inputWidgets": {},
     "nuid": "9d3be58b-d653-4170-9e6e-ea89f30d84c4",
     "showTitle": false,
     "tableResultSettingsMap": {},
     "title": ""
    }
   },
   "source": [
    "#### Predict su periodo non adiacente il training set"
   ]
  },
  {
   "cell_type": "code",
   "execution_count": 0,
   "metadata": {
    "application/vnd.databricks.v1+cell": {
     "cellMetadata": {
      "byteLimit": 2048000,
      "rowLimit": 10000
     },
     "inputWidgets": {},
     "nuid": "7677228b-7c8c-40e4-8e04-e1ab70218a8c",
     "showTitle": false,
     "tableResultSettingsMap": {},
     "title": ""
    }
   },
   "outputs": [],
   "source": [
    "predict_steps_2 = len(y_test_2)\n",
    "last_window = pd.concat([y_train, y_test_1], axis=0)\n",
    "\n",
    "y_pred_2 = forecaster.predict(steps=predict_steps_2, last_window=last_window, exog=X_test_2)"
   ]
  },
  {
   "cell_type": "code",
   "execution_count": 0,
   "metadata": {
    "application/vnd.databricks.v1+cell": {
     "cellMetadata": {
      "byteLimit": 2048000,
      "rowLimit": 10000
     },
     "inputWidgets": {},
     "nuid": "7e3f0348-d88c-418f-86d7-508f4d4c5a4b",
     "showTitle": false,
     "tableResultSettingsMap": {},
     "title": ""
    }
   },
   "outputs": [],
   "source": [
    "fig, ax = plt.subplots(1, 1, figsize=(8, 4))\n",
    "\n",
    "y_test_1.plot(ax=ax, label=\"test_1\", color=\"y\")\n",
    "bt_prediction[\"pred\"].plot(ax=ax, label=\"bt pred\", color=\"b\")\n",
    "y_test_2.plot(ax=ax, label=\"test_2\", color=\"y\")\n",
    "y_pred_2.plot(ax=ax, label=\"pred_2\", color=\"g\")\n",
    "fig.legend()"
   ]
  },
  {
   "cell_type": "markdown",
   "metadata": {
    "application/vnd.databricks.v1+cell": {
     "cellMetadata": {
      "byteLimit": 2048000,
      "rowLimit": 10000
     },
     "inputWidgets": {},
     "nuid": "80f05660-cc84-49f7-b8dc-54421cb87bad",
     "showTitle": false,
     "tableResultSettingsMap": {},
     "title": ""
    }
   },
   "source": [
    "#### Predict + prediction interval con bootstrap"
   ]
  },
  {
   "cell_type": "markdown",
   "metadata": {
    "application/vnd.databricks.v1+cell": {
     "cellMetadata": {
      "byteLimit": 2048000,
      "rowLimit": 10000
     },
     "inputWidgets": {},
     "nuid": "3c8f943f-dcb8-442c-921b-60dc087c9b4c",
     "showTitle": false,
     "tableResultSettingsMap": {},
     "title": ""
    }
   },
   "source": [
    "https://skforecast.org/0.14.0/user_guides/probabilistic-forecasting.html"
   ]
  },
  {
   "cell_type": "code",
   "execution_count": 0,
   "metadata": {
    "application/vnd.databricks.v1+cell": {
     "cellMetadata": {
      "byteLimit": 2048000,
      "rowLimit": 10000
     },
     "inputWidgets": {},
     "nuid": "42eca405-74fd-45e6-b8c6-1b5737c2ded5",
     "showTitle": false,
     "tableResultSettingsMap": {},
     "title": ""
    }
   },
   "outputs": [],
   "source": [
    "def get_coverage(y_true, y_lower, y_upper):\n",
    "    inside_interval = np.where((y_true >= y_lower) & (y_true <= y_upper), True, False)\n",
    "    return inside_interval.mean()"
   ]
  },
  {
   "cell_type": "code",
   "execution_count": 0,
   "metadata": {
    "application/vnd.databricks.v1+cell": {
     "cellMetadata": {
      "byteLimit": 2048000,
      "rowLimit": 10000
     },
     "inputWidgets": {},
     "nuid": "526db700-07ae-41fe-9bc4-b93acc8e2927",
     "showTitle": false,
     "tableResultSettingsMap": {},
     "title": ""
    }
   },
   "outputs": [],
   "source": [
    "def plot_pi(y_true, y_pred, y_lb, y_ub, lbl_pi):\n",
    "\n",
    "    for ind in (y_pred.index, y_lb.index, y_ub.index):\n",
    "        assert y_true.index.equals(ind)\n",
    "\n",
    "    fig, ax = plt.subplots(1, 1, figsize=(8, 4))\n",
    "\n",
    "    y_true.plot(ax=ax, label=\"true\", color=\"k\", linestyle=\"--\")\n",
    "\n",
    "    ax.fill_between(y_lb.index, y_lb, y_ub, color=\"deepskyblue\", alpha=0.9, label=lbl_pi)\n",
    "\n",
    "    out_of_bounds = (y_true < y_lb) | (y_true > y_ub)\n",
    "    ax.vlines(\n",
    "        y_true.index[out_of_bounds],\n",
    "        ymin=y_lb.min(),\n",
    "        ymax=y_ub.max(),\n",
    "        linewidth=0.5,\n",
    "        color=\"b\",\n",
    "        linestyle=\"--\",\n",
    "        zorder=5,\n",
    "        label=\"True value outside interval\",\n",
    "    )\n",
    "\n",
    "    y_pred.plot(ax=ax, label=\"prediction\", color=\"g\")\n",
    "    # ax.set_xlim('2024-11-01', '2024-12-10')\n",
    "    ax.text(\n",
    "        0.95,\n",
    "        0.05,\n",
    "        f\"coverage = {get_coverage(y_true, y_lb, y_ub):.2f}\",\n",
    "        transform=ax.transAxes,\n",
    "        fontsize=7,\n",
    "        verticalalignment=\"bottom\",\n",
    "        horizontalalignment=\"right\",\n",
    "        color=\"black\",\n",
    "    )\n",
    "    ax.text(\n",
    "        0.95,\n",
    "        0.00,\n",
    "        f\"mae = {mean_absolute_error(y_true, y_pred):.0f}\",\n",
    "        transform=ax.transAxes,\n",
    "        fontsize=7,\n",
    "        verticalalignment=\"bottom\",\n",
    "        horizontalalignment=\"right\",\n",
    "        color=\"black\",\n",
    "    )\n",
    "\n",
    "    fig.legend(loc=\"lower left\")\n"
   ]
  },
  {
   "cell_type": "code",
   "execution_count": 0,
   "metadata": {
    "application/vnd.databricks.v1+cell": {
     "cellMetadata": {
      "byteLimit": 2048000,
      "rowLimit": 10000
     },
     "inputWidgets": {},
     "nuid": "54562d55-fe7c-4a31-89c5-cc8e1447f156",
     "showTitle": false,
     "tableResultSettingsMap": {},
     "title": ""
    }
   },
   "outputs": [],
   "source": [
    "forecaster.set_out_sample_residuals(y_true=y_test_1.loc[bt_prediction.index], y_pred=bt_prediction[\"pred\"])\n",
    "\n",
    "predict_steps_2 = len(y_test_2)\n",
    "last_window = pd.concat([y_train, y_test_1], axis=0)"
   ]
  },
  {
   "cell_type": "code",
   "execution_count": 0,
   "metadata": {
    "application/vnd.databricks.v1+cell": {
     "cellMetadata": {
      "byteLimit": 2048000,
      "rowLimit": 10000
     },
     "inputWidgets": {},
     "nuid": "7b04225c-8133-4f9d-a40a-3f27bf8b1d0c",
     "showTitle": false,
     "tableResultSettingsMap": {},
     "title": ""
    }
   },
   "outputs": [],
   "source": [
    "pred_2_ord = forecaster.predict_interval(\n",
    "    steps=predict_steps_2,\n",
    "    last_window=last_window,\n",
    "    exog=X_test_2,\n",
    "    interval=[10, 90],\n",
    "    n_boot=20,  # default 250, spesso usano 1000\n",
    "    use_in_sample_residuals=False,  # True -> usa quelli ricavati in training set\n",
    "    use_binned_residuals=False,  # feature sperimentale, per condizionare i residui alla predizione\n",
    ")"
   ]
  },
  {
   "cell_type": "code",
   "execution_count": 0,
   "metadata": {
    "application/vnd.databricks.v1+cell": {
     "cellMetadata": {
      "byteLimit": 2048000,
      "rowLimit": 10000
     },
     "inputWidgets": {},
     "nuid": "ce21f344-c05f-440a-9dd6-ee5edd5bd02f",
     "showTitle": false,
     "tableResultSettingsMap": {},
     "title": ""
    }
   },
   "outputs": [],
   "source": [
    "plot_pi(\n",
    "    y_true=y_test_2,\n",
    "    y_pred=pred_2_ord[\"pred\"],\n",
    "    y_lb=pred_2_ord[\"lower_bound\"],\n",
    "    y_ub=pred_2_ord[\"upper_bound\"],\n",
    "    lbl_pi=\"ordinary bs PI\",\n",
    ")"
   ]
  },
  {
   "cell_type": "code",
   "execution_count": 0,
   "metadata": {
    "application/vnd.databricks.v1+cell": {
     "cellMetadata": {
      "byteLimit": 2048000,
      "rowLimit": 10000
     },
     "inputWidgets": {},
     "nuid": "55727734-0974-455b-bda0-be4015089864",
     "showTitle": false,
     "tableResultSettingsMap": {},
     "title": ""
    }
   },
   "outputs": [],
   "source": []
  }
 ],
 "metadata": {
  "application/vnd.databricks.v1+notebook": {
   "computePreferences": {
    "hardware": {
     "accelerator": null,
     "gpuPoolId": null,
     "memory": null
    }
   },
   "dashboards": [],
   "environmentMetadata": {
    "base_environment": "",
    "environment_version": "2"
   },
   "inputWidgetPreferences": null,
   "language": "python",
   "notebookMetadata": {
    "pythonIndentUnit": 4
   },
   "notebookName": "training_pred_playground",
   "widgets": {}
  },
  "language_info": {
   "name": "python"
  }
 },
 "nbformat": 4,
 "nbformat_minor": 0
}
