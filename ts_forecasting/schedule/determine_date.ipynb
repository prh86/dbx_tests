{
 "cells": [
  {
   "cell_type": "code",
   "execution_count": 0,
   "metadata": {
    "application/vnd.databricks.v1+cell": {
     "cellMetadata": {
      "byteLimit": 2048000,
      "rowLimit": 10000
     },
     "inputWidgets": {},
     "nuid": "06064103-34c1-4ea4-9f00-c98337e0bc2d",
     "showTitle": false,
     "tableResultSettingsMap": {},
     "title": ""
    }
   },
   "outputs": [],
   "source": [
    "import json\n",
    "\n",
    "# Simulate computation\n",
    "file_date = \"2025-08-21\"\n",
    "source_table = \"sales_2025\"\n",
    "partition_key = \"region\"\n",
    "\n",
    "# Return as JSON string\n",
    "output = {\n",
    "    \"file_date\": file_date,\n",
    "    \"source_table\": source_table,\n",
    "    \"partition_key\": partition_key\n",
    "}\n",
    "\n",
    "\n",
    "dbutils.jobs.taskValues.set(\"file_date_tv\", file_date)\n",
    "dbutils.notebook.exit(json.dumps(output))\n"
   ]
  }
 ],
 "metadata": {
  "application/vnd.databricks.v1+notebook": {
   "computePreferences": null,
   "dashboards": [],
   "environmentMetadata": {
    "base_environment": "",
    "environment_version": "2"
   },
   "inputWidgetPreferences": null,
   "language": "python",
   "notebookMetadata": {
    "pythonIndentUnit": 4
   },
   "notebookName": "determine_date",
   "widgets": {}
  },
  "language_info": {
   "name": "python"
  }
 },
 "nbformat": 4,
 "nbformat_minor": 0
}
