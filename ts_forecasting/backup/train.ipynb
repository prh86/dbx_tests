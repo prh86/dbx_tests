{
 "cells": [
  {
   "cell_type": "code",
   "execution_count": 0,
   "metadata": {
    "application/vnd.databricks.v1+cell": {
     "cellMetadata": {
      "byteLimit": 2048000,
      "rowLimit": 10000
     },
     "inputWidgets": {},
     "nuid": "49806ed4-2358-40a1-8383-341ef4013793",
     "showTitle": false,
     "tableResultSettingsMap": {},
     "title": ""
    }
   },
   "outputs": [],
   "source": [
    "%pip install holidays tqdm skforecast==0.14.0 scikit-learn==1.5.0 xgboost==2.1.3 matplotlib==3.10.0"
   ]
  },
  {
   "cell_type": "code",
   "execution_count": 0,
   "metadata": {
    "application/vnd.databricks.v1+cell": {
     "cellMetadata": {
      "byteLimit": 2048000,
      "rowLimit": 10000
     },
     "inputWidgets": {},
     "nuid": "5f28ad4e-1590-40c0-83d5-2168dacf7c49",
     "showTitle": false,
     "tableResultSettingsMap": {},
     "title": ""
    }
   },
   "outputs": [],
   "source": [
    "dbutils.library.restartPython()"
   ]
  },
  {
   "cell_type": "code",
   "execution_count": 0,
   "metadata": {
    "application/vnd.databricks.v1+cell": {
     "cellMetadata": {
      "byteLimit": 2048000,
      "rowLimit": 10000
     },
     "inputWidgets": {},
     "nuid": "492d53f3-cb9a-40dc-b5b7-166e7a34ce60",
     "showTitle": false,
     "tableResultSettingsMap": {},
     "title": ""
    }
   },
   "outputs": [],
   "source": [
    "import os\n",
    "import pandas as pd\n",
    "import numpy as np\n",
    "import matplotlib.pyplot as plt\n",
    "\n",
    "#from tqdm import tqdm\n",
    "\n",
    "from src.models.holidays_related.custom_holidays import get_all_holidays\n",
    "\n",
    "pd.options.display.float_format = \"{:,.2f}\".format"
   ]
  },
  {
   "cell_type": "code",
   "execution_count": 0,
   "metadata": {
    "application/vnd.databricks.v1+cell": {
     "cellMetadata": {
      "byteLimit": 2048000,
      "rowLimit": 10000
     },
     "inputWidgets": {},
     "nuid": "65309eb9-e1d5-473f-8053-74d4a9461932",
     "showTitle": false,
     "tableResultSettingsMap": {},
     "title": ""
    }
   },
   "outputs": [],
   "source": [
    "from xgboost import XGBRegressor\n",
    "from skforecast.recursive import ForecasterRecursive\n",
    "from src.models.model_features import window_features, features_exog, apply_functions"
   ]
  },
  {
   "cell_type": "code",
   "execution_count": 0,
   "metadata": {
    "application/vnd.databricks.v1+cell": {
     "cellMetadata": {
      "byteLimit": 2048000,
      "rowLimit": 10000
     },
     "inputWidgets": {},
     "nuid": "d2163d2c-1697-405c-a10d-f4ec513b666c",
     "showTitle": false,
     "tableResultSettingsMap": {},
     "title": ""
    }
   },
   "outputs": [],
   "source": [
    "from src.data.columns import Columns\n",
    "\n",
    "DATE_COL = Columns.DATE.value\n",
    "AMOUNT_COL = Columns.AMOUNT.value"
   ]
  },
  {
   "cell_type": "code",
   "execution_count": 0,
   "metadata": {
    "application/vnd.databricks.v1+cell": {
     "cellMetadata": {
      "byteLimit": 2048000,
      "rowLimit": 10000
     },
     "inputWidgets": {},
     "nuid": "4d9bad89-d29f-4349-9708-be26002fd55d",
     "showTitle": false,
     "tableResultSettingsMap": {},
     "title": ""
    }
   },
   "outputs": [],
   "source": [
    "dbutils.widgets.text(\"file_date\", \"2023-01-01\", \"Data del file\")\n",
    "file_date = dbutils.widgets.get(\"file_date\")"
   ]
  },
  {
   "cell_type": "code",
   "execution_count": 0,
   "metadata": {
    "application/vnd.databricks.v1+cell": {
     "cellMetadata": {
      "byteLimit": 2048000,
      "rowLimit": 10000
     },
     "inputWidgets": {},
     "nuid": "7f47c717-c857-437f-8323-46a2195481f0",
     "showTitle": false,
     "tableResultSettingsMap": {},
     "title": ""
    }
   },
   "outputs": [],
   "source": [
    "INPUT_FOLDER = \"/Volumes/ts_catalog/ts_data/ts_input_clean/\"\n",
    "INPUT_FILE = f\"serie_{file_date}\""
   ]
  },
  {
   "cell_type": "code",
   "execution_count": 0,
   "metadata": {
    "application/vnd.databricks.v1+cell": {
     "cellMetadata": {
      "byteLimit": 2048000,
      "rowLimit": 10000
     },
     "inputWidgets": {},
     "nuid": "e64d841e-0c44-4d94-ab38-0b6d3f956aa2",
     "showTitle": false,
     "tableResultSettingsMap": {},
     "title": ""
    }
   },
   "outputs": [],
   "source": [
    "INPUT_DATA_PATH = os.path.join(INPUT_FOLDER, INPUT_FILE)"
   ]
  },
  {
   "cell_type": "code",
   "execution_count": 0,
   "metadata": {
    "application/vnd.databricks.v1+cell": {
     "cellMetadata": {
      "byteLimit": 2048000,
      "rowLimit": 10000
     },
     "inputWidgets": {},
     "nuid": "8665f405-2bd4-47fa-be35-6f8d0e7c871a",
     "showTitle": false,
     "tableResultSettingsMap": {},
     "title": ""
    }
   },
   "outputs": [],
   "source": [
    "from src.models.tracking_constants import ModelTracking\n",
    "\n",
    "EXPERIMENT_NAME = ModelTracking.EXPERIMENT_NAME.value\n",
    "TUNE_TRAIN_RUN_NAME = ModelTracking.TUNE_TRAIN_RUN_NAME.value\n",
    "ARTIFACT_PATH = ModelTracking.ARTIFACT_PATH.value\n",
    "ARTIFACT_NAME = ModelTracking.ARTIFACT_NAME.value"
   ]
  },
  {
   "cell_type": "markdown",
   "metadata": {
    "application/vnd.databricks.v1+cell": {
     "cellMetadata": {},
     "inputWidgets": {},
     "nuid": "8a23cb04-723f-4d8b-9c76-86b0b0689ded",
     "showTitle": false,
     "tableResultSettingsMap": {},
     "title": ""
    }
   },
   "source": [
    "#### data loading"
   ]
  },
  {
   "cell_type": "code",
   "execution_count": 0,
   "metadata": {
    "application/vnd.databricks.v1+cell": {
     "cellMetadata": {
      "byteLimit": 2048000,
      "rowLimit": 10000
     },
     "inputWidgets": {},
     "nuid": "c90e72b9-4428-454e-b2b9-e66d15654844",
     "showTitle": false,
     "tableResultSettingsMap": {},
     "title": ""
    }
   },
   "outputs": [],
   "source": [
    "loaded_spark_df = spark.read.format(\"delta\").load(INPUT_DATA_PATH)\n",
    "data = loaded_spark_df.toPandas()"
   ]
  },
  {
   "cell_type": "code",
   "execution_count": 0,
   "metadata": {
    "application/vnd.databricks.v1+cell": {
     "cellMetadata": {
      "byteLimit": 2048000,
      "rowLimit": 10000
     },
     "inputWidgets": {},
     "nuid": "12da0361-bbf1-4386-9dea-7cdf7a5290b1",
     "showTitle": false,
     "tableResultSettingsMap": {},
     "title": ""
    }
   },
   "outputs": [],
   "source": [
    "data.index = data[DATE_COL]\n",
    "data = data.asfreq('B')"
   ]
  },
  {
   "cell_type": "code",
   "execution_count": 0,
   "metadata": {
    "application/vnd.databricks.v1+cell": {
     "cellMetadata": {
      "byteLimit": 2048000,
      "rowLimit": 10000
     },
     "inputWidgets": {},
     "nuid": "9d30bf8b-0781-456d-8515-53f212571f1b",
     "showTitle": false,
     "tableResultSettingsMap": {},
     "title": ""
    }
   },
   "outputs": [],
   "source": [
    "data"
   ]
  },
  {
   "cell_type": "markdown",
   "metadata": {
    "application/vnd.databricks.v1+cell": {
     "cellMetadata": {},
     "inputWidgets": {},
     "nuid": "5b2d4f64-a193-49f8-b9c3-9b22a14e9c07",
     "showTitle": false,
     "tableResultSettingsMap": {},
     "title": ""
    }
   },
   "source": [
    "#### exogenous features computation"
   ]
  },
  {
   "cell_type": "code",
   "execution_count": 0,
   "metadata": {
    "application/vnd.databricks.v1+cell": {
     "cellMetadata": {
      "byteLimit": 2048000,
      "rowLimit": 10000
     },
     "inputWidgets": {},
     "nuid": "b661f10f-2e78-4aab-a8e7-10addc8125a5",
     "showTitle": false,
     "tableResultSettingsMap": {},
     "title": ""
    }
   },
   "outputs": [],
   "source": [
    "X = apply_functions(data, features_exog)\n",
    "y = data[AMOUNT_COL]"
   ]
  },
  {
   "cell_type": "code",
   "execution_count": 0,
   "metadata": {
    "application/vnd.databricks.v1+cell": {
     "cellMetadata": {
      "byteLimit": 2048000,
      "rowLimit": 10000
     },
     "inputWidgets": {},
     "nuid": "947fc9e2-59a5-4003-a660-192beb324f8c",
     "showTitle": false,
     "tableResultSettingsMap": {},
     "title": ""
    }
   },
   "outputs": [],
   "source": [
    "X"
   ]
  },
  {
   "cell_type": "code",
   "execution_count": 0,
   "metadata": {
    "application/vnd.databricks.v1+cell": {
     "cellMetadata": {
      "byteLimit": 2048000,
      "rowLimit": 10000
     },
     "inputWidgets": {},
     "nuid": "a7692f55-e557-44f8-bcbd-1512e827152d",
     "showTitle": false,
     "tableResultSettingsMap": {},
     "title": ""
    }
   },
   "outputs": [],
   "source": [
    "y"
   ]
  },
  {
   "cell_type": "code",
   "execution_count": 0,
   "metadata": {
    "application/vnd.databricks.v1+cell": {
     "cellMetadata": {
      "byteLimit": 2048000,
      "rowLimit": 10000
     },
     "inputWidgets": {},
     "nuid": "aa7a00e3-7fc9-4116-95b9-61314789948e",
     "showTitle": false,
     "tableResultSettingsMap": {},
     "title": ""
    }
   },
   "outputs": [],
   "source": [
    "y.index.min(), y.index.max()"
   ]
  },
  {
   "cell_type": "markdown",
   "metadata": {
    "application/vnd.databricks.v1+cell": {
     "cellMetadata": {},
     "inputWidgets": {},
     "nuid": "8da3c4f8-bfc5-4b9c-9514-5507c9104c97",
     "showTitle": false,
     "tableResultSettingsMap": {},
     "title": ""
    }
   },
   "source": [
    "#### Train/test split"
   ]
  },
  {
   "cell_type": "code",
   "execution_count": 0,
   "metadata": {
    "application/vnd.databricks.v1+cell": {
     "cellMetadata": {
      "byteLimit": 2048000,
      "rowLimit": 10000
     },
     "inputWidgets": {},
     "nuid": "6d585269-e0f8-4e02-8dd9-a0fd879aef22",
     "showTitle": false,
     "tableResultSettingsMap": {},
     "title": ""
    }
   },
   "outputs": [],
   "source": [
    "years_of_interest = list(range(pd.Timestamp.today().year - 5, pd.Timestamp.today().year + 2))\n",
    "print(years_of_interest)\n",
    "list_holidays = [x.strftime(\"%Y-%m-%d\") for x in get_all_holidays(years_of_interest)]"
   ]
  },
  {
   "cell_type": "code",
   "execution_count": 0,
   "metadata": {
    "application/vnd.databricks.v1+cell": {
     "cellMetadata": {
      "byteLimit": 2048000,
      "rowLimit": 10000
     },
     "inputWidgets": {},
     "nuid": "9bb45fb3-b1b6-4fd5-9bd1-891be203d10e",
     "showTitle": false,
     "tableResultSettingsMap": {},
     "title": ""
    }
   },
   "outputs": [],
   "source": [
    "TEST_DAYS = 60\n",
    "date_thr = y.index.max() - pd.offsets.CustomBusinessDay(TEST_DAYS, holidays=list_holidays)\n",
    "date_thr"
   ]
  },
  {
   "cell_type": "code",
   "execution_count": 0,
   "metadata": {
    "application/vnd.databricks.v1+cell": {
     "cellMetadata": {
      "byteLimit": 2048000,
      "rowLimit": 10000
     },
     "inputWidgets": {},
     "nuid": "02631b31-bfb1-4af8-86da-8e6408c59d0f",
     "showTitle": false,
     "tableResultSettingsMap": {},
     "title": ""
    }
   },
   "outputs": [],
   "source": [
    "y_train = y.loc[y.index < date_thr]\n",
    "y_test = y.loc[(y.index >= date_thr)]\n",
    "\n",
    "X_train = X.loc[y_train.index]\n",
    "X_test = X.loc[y_test.index]\n"
   ]
  },
  {
   "cell_type": "code",
   "execution_count": 0,
   "metadata": {
    "application/vnd.databricks.v1+cell": {
     "cellMetadata": {
      "byteLimit": 2048000,
      "rowLimit": 10000
     },
     "inputWidgets": {},
     "nuid": "ba85f305-1ebd-4da6-8786-1fd0ccf8029e",
     "showTitle": false,
     "tableResultSettingsMap": {},
     "title": ""
    }
   },
   "outputs": [],
   "source": [
    "y_train.shape, y_test.shape"
   ]
  },
  {
   "cell_type": "code",
   "execution_count": 0,
   "metadata": {
    "application/vnd.databricks.v1+cell": {
     "cellMetadata": {
      "byteLimit": 2048000,
      "rowLimit": 10000
     },
     "inputWidgets": {},
     "nuid": "498800a5-f579-447e-956a-1b13626f7c78",
     "showTitle": false,
     "tableResultSettingsMap": {},
     "title": ""
    }
   },
   "outputs": [],
   "source": [
    "window_features.transform_batch(y).head(10)"
   ]
  },
  {
   "cell_type": "markdown",
   "metadata": {
    "application/vnd.databricks.v1+cell": {
     "cellMetadata": {},
     "inputWidgets": {},
     "nuid": "e9a0414f-2143-4527-9606-6d5203e92110",
     "showTitle": false,
     "tableResultSettingsMap": {},
     "title": ""
    }
   },
   "source": [
    "#### Hyperparam tuning grids and CV"
   ]
  },
  {
   "cell_type": "code",
   "execution_count": 0,
   "metadata": {
    "application/vnd.databricks.v1+cell": {
     "cellMetadata": {
      "byteLimit": 2048000,
      "rowLimit": 10000
     },
     "inputWidgets": {},
     "nuid": "d893584b-c583-4af9-b7d2-c39cd5f3306e",
     "showTitle": false,
     "tableResultSettingsMap": {},
     "title": ""
    }
   },
   "outputs": [],
   "source": [
    "from skforecast.model_selection import TimeSeriesFold\n",
    "\n",
    "lags_grid = [11, 22]\n",
    "param_grid = {\n",
    "    \"learning_rate\": [0.05], #, 0.1],\n",
    "    \"max_depth\": [5, 6], #, 7],\n",
    "    \"n_estimators\": [50], #, 100, 200],\n",
    "    \"colsample_bytree\": [0.5], #, 1],\n",
    "}\n",
    "\n",
    "\n",
    "cv = TimeSeriesFold(\n",
    "    steps=60,\n",
    "    initial_train_size=60,\n",
    "    gap=0,\n",
    "    refit=True,\n",
    "    fixed_train_size=False,\n",
    ")"
   ]
  },
  {
   "cell_type": "markdown",
   "metadata": {
    "application/vnd.databricks.v1+cell": {
     "cellMetadata": {},
     "inputWidgets": {},
     "nuid": "e41414c7-e9d8-456b-af38-870893df1760",
     "showTitle": false,
     "tableResultSettingsMap": {},
     "title": ""
    }
   },
   "source": [
    "#### Forecaster definition and Grid search"
   ]
  },
  {
   "cell_type": "code",
   "execution_count": 0,
   "metadata": {
    "application/vnd.databricks.v1+cell": {
     "cellMetadata": {
      "byteLimit": 2048000,
      "rowLimit": 10000
     },
     "inputWidgets": {},
     "nuid": "9325909b-e935-4dbd-b4dc-2a9bc8b30e6c",
     "showTitle": false,
     "tableResultSettingsMap": {},
     "title": ""
    }
   },
   "outputs": [],
   "source": [
    "from skforecast.model_selection import grid_search_forecaster"
   ]
  },
  {
   "cell_type": "code",
   "execution_count": 0,
   "metadata": {
    "application/vnd.databricks.v1+cell": {
     "cellMetadata": {
      "byteLimit": 2048000,
      "rowLimit": 10000
     },
     "inputWidgets": {},
     "nuid": "91bf1878-85b9-46b6-bd64-c3bb8adba472",
     "showTitle": false,
     "tableResultSettingsMap": {},
     "title": ""
    }
   },
   "outputs": [],
   "source": [
    "forecaster = ForecasterRecursive(\n",
    "    regressor=XGBRegressor(random_state=321),\n",
    "    lags=100,\n",
    "    window_features=window_features,\n",
    "    forecaster_id=\"forecasting_series_y\",\n",
    ")\n",
    "\n",
    "\"\"\"\n",
    "forecaster.fit(\n",
    "    y=y_train,\n",
    "    exog=X_train,\n",
    "    store_last_window=False,\n",
    "    store_in_sample_residuals=True,\n",
    "    random_state=412,\n",
    ")\n",
    "\"\"\""
   ]
  },
  {
   "cell_type": "code",
   "execution_count": 0,
   "metadata": {
    "application/vnd.databricks.v1+cell": {
     "cellMetadata": {
      "byteLimit": 2048000,
      "rowLimit": 10000
     },
     "inputWidgets": {},
     "nuid": "d8714c78-cfc7-4f52-ae78-963b1f60bfc6",
     "showTitle": false,
     "tableResultSettingsMap": {},
     "title": ""
    }
   },
   "outputs": [],
   "source": [
    "results_grid = grid_search_forecaster(\n",
    "    forecaster=forecaster,\n",
    "    y=y_train,\n",
    "    exog=X_train,\n",
    "    cv=cv,\n",
    "    param_grid=param_grid,\n",
    "    lags_grid=lags_grid,\n",
    "    metric=\"mean_absolute_error\",\n",
    "    return_best=True,\n",
    "    verbose=False,\n",
    "    show_progress=True,\n",
    "    n_jobs=6,\n",
    ")\n",
    "\n"
   ]
  },
  {
   "cell_type": "markdown",
   "metadata": {
    "application/vnd.databricks.v1+cell": {
     "cellMetadata": {},
     "inputWidgets": {},
     "nuid": "8c56cf1f-ed4f-4195-bc8a-0de7beb516fa",
     "showTitle": false,
     "tableResultSettingsMap": {},
     "title": ""
    }
   },
   "source": [
    "### MLFlow Logging"
   ]
  },
  {
   "cell_type": "code",
   "execution_count": 0,
   "metadata": {
    "application/vnd.databricks.v1+cell": {
     "cellMetadata": {
      "byteLimit": 2048000,
      "rowLimit": 10000
     },
     "inputWidgets": {},
     "nuid": "bd853743-5164-4929-8690-fd99b255e711",
     "showTitle": false,
     "tableResultSettingsMap": {},
     "title": ""
    }
   },
   "outputs": [],
   "source": [
    "import mlflow\n",
    "import os\n",
    "import pickle\n",
    "import tempfile\n",
    "\n",
    "from src.models.model_wrapper import SkforecastWrapper\n",
    "\n",
    "\n",
    "mlflow.set_registry_uri(\"databricks\") # you need the Model Registry/UC to be enabled \n",
    "#model_name_uc = \"ts_catalog__models__my_forecaster_pyfunc\" # you need the Model Registry/UC to be enabled\n",
    "\n",
    "# SETTING EXPERIMENT\n",
    "mlflow.set_experiment(EXPERIMENT_NAME)\n",
    "\n",
    "with tempfile.NamedTemporaryFile(suffix=\".pkl\", delete=False) as tmp_file:\n",
    "    with open(tmp_file.name, \"wb\") as f:\n",
    "        pickle.dump(forecaster, f)\n",
    "    pickle_path = tmp_file.name\n",
    "\n",
    "with mlflow.start_run(run_name=TUNE_TRAIN_RUN_NAME) as run:\n",
    "    best_params = results_grid.loc[0, \"params\"]\n",
    "    best_lags = results_grid.loc[0, \"lags\"]\n",
    "    best_metric = results_grid.loc[0, \"mean_absolute_error\"]\n",
    "    mlflow.log_params(best_params)\n",
    "    mlflow.log_param(\"lags\", best_lags)\n",
    "    mlflow.log_metric(\"mean_absolute_error\", best_metric)\n",
    "    \n",
    "    mlflow.pyfunc.log_model(\n",
    "        artifact_path=ARTIFACT_PATH,\n",
    "        python_model=SkforecastWrapper(),\n",
    "        artifacts={ARTIFACT_NAME: pickle_path},\n",
    "        # registered_model_name=model_name_uc, # you need the Model Registry/UC to be enabled\n",
    "        signature=SkforecastWrapper.get_signature()\n",
    "    )\n",
    "\n",
    "os.remove(pickle_path)\n"
   ]
  },
  {
   "cell_type": "code",
   "execution_count": 0,
   "metadata": {
    "application/vnd.databricks.v1+cell": {
     "cellMetadata": {
      "byteLimit": 2048000,
      "rowLimit": 10000
     },
     "inputWidgets": {},
     "nuid": "0339563d-41b4-4830-960d-3693147e547b",
     "showTitle": false,
     "tableResultSettingsMap": {},
     "title": ""
    }
   },
   "outputs": [],
   "source": [
    "dbutils.notebook.exit(\"Execution stopped intentionally. Remove this line to continue.\")"
   ]
  },
  {
   "cell_type": "markdown",
   "metadata": {
    "application/vnd.databricks.v1+cell": {
     "cellMetadata": {},
     "inputWidgets": {},
     "nuid": "00e5060d-c657-409f-8b31-ded7fbe7fbb2",
     "showTitle": false,
     "tableResultSettingsMap": {},
     "title": ""
    }
   },
   "source": [
    "# BACKUP CELLS for improvements (not to be run now)"
   ]
  },
  {
   "cell_type": "markdown",
   "metadata": {
    "application/vnd.databricks.v1+cell": {
     "cellMetadata": {},
     "inputWidgets": {},
     "nuid": "80f05660-cc84-49f7-b8dc-54421cb87bad",
     "showTitle": false,
     "tableResultSettingsMap": {},
     "title": ""
    }
   },
   "source": [
    "#### Predict + prediction interval con bootstrap"
   ]
  },
  {
   "cell_type": "markdown",
   "metadata": {
    "application/vnd.databricks.v1+cell": {
     "cellMetadata": {},
     "inputWidgets": {},
     "nuid": "3c8f943f-dcb8-442c-921b-60dc087c9b4c",
     "showTitle": false,
     "tableResultSettingsMap": {},
     "title": ""
    }
   },
   "source": [
    "https://skforecast.org/0.14.0/user_guides/probabilistic-forecasting.html"
   ]
  },
  {
   "cell_type": "code",
   "execution_count": 0,
   "metadata": {
    "application/vnd.databricks.v1+cell": {
     "cellMetadata": {
      "byteLimit": 2048000,
      "rowLimit": 10000
     },
     "inputWidgets": {},
     "nuid": "42eca405-74fd-45e6-b8c6-1b5737c2ded5",
     "showTitle": false,
     "tableResultSettingsMap": {},
     "title": ""
    }
   },
   "outputs": [],
   "source": [
    "def get_coverage(y_true, y_lower, y_upper):\n",
    "    inside_interval = np.where((y_true >= y_lower) & (y_true <= y_upper), True, False)\n",
    "    return inside_interval.mean()"
   ]
  },
  {
   "cell_type": "code",
   "execution_count": 0,
   "metadata": {
    "application/vnd.databricks.v1+cell": {
     "cellMetadata": {
      "byteLimit": 2048000,
      "rowLimit": 10000
     },
     "inputWidgets": {},
     "nuid": "526db700-07ae-41fe-9bc4-b93acc8e2927",
     "showTitle": false,
     "tableResultSettingsMap": {},
     "title": ""
    }
   },
   "outputs": [],
   "source": [
    "from sklearn.metrics import mean_absolute_error\n",
    "\n",
    "def plot_pi(y_true, y_pred, y_lb, y_ub, lbl_pi):\n",
    "\n",
    "    for ind in (y_pred.index, y_lb.index, y_ub.index):\n",
    "        assert y_true.index.equals(ind)\n",
    "\n",
    "    fig, ax = plt.subplots(1, 1, figsize=(8, 4))\n",
    "\n",
    "    y_true.plot(ax=ax, label=\"true\", color=\"k\", linestyle=\"--\")\n",
    "\n",
    "    ax.fill_between(y_lb.index, y_lb, y_ub, color=\"deepskyblue\", alpha=0.9, label=lbl_pi)\n",
    "\n",
    "    out_of_bounds = (y_true < y_lb) | (y_true > y_ub)\n",
    "    ax.vlines(\n",
    "        y_true.index[out_of_bounds],\n",
    "        ymin=y_lb.min(),\n",
    "        ymax=y_ub.max(),\n",
    "        linewidth=0.5,\n",
    "        color=\"b\",\n",
    "        linestyle=\"--\",\n",
    "        zorder=5,\n",
    "        label=\"True value outside interval\",\n",
    "    )\n",
    "\n",
    "    y_pred.plot(ax=ax, label=\"prediction\", color=\"g\")\n",
    "    # ax.set_xlim('2024-11-01', '2024-12-10')\n",
    "    ax.text(\n",
    "        0.95,\n",
    "        0.05,\n",
    "        f\"coverage = {get_coverage(y_true, y_lb, y_ub):.2f}\",\n",
    "        transform=ax.transAxes,\n",
    "        fontsize=7,\n",
    "        verticalalignment=\"bottom\",\n",
    "        horizontalalignment=\"right\",\n",
    "        color=\"black\",\n",
    "    )\n",
    "    ax.text(\n",
    "        0.95,\n",
    "        0.00,\n",
    "        f\"mae = {mean_absolute_error(y_true, y_pred):.0f}\",\n",
    "        transform=ax.transAxes,\n",
    "        fontsize=7,\n",
    "        verticalalignment=\"bottom\",\n",
    "        horizontalalignment=\"right\",\n",
    "        color=\"black\",\n",
    "    )\n",
    "\n",
    "    fig.legend(loc=\"lower left\")\n"
   ]
  },
  {
   "cell_type": "code",
   "execution_count": 0,
   "metadata": {
    "application/vnd.databricks.v1+cell": {
     "cellMetadata": {
      "byteLimit": 2048000,
      "rowLimit": 10000
     },
     "inputWidgets": {},
     "nuid": "54562d55-fe7c-4a31-89c5-cc8e1447f156",
     "showTitle": false,
     "tableResultSettingsMap": {},
     "title": ""
    }
   },
   "outputs": [],
   "source": [
    "forecaster.set_out_sample_residuals(y_true=y_test_1.loc[bt_prediction.index], y_pred=bt_prediction[\"pred\"])\n",
    "\n",
    "predict_steps_2 = len(y_test_2)\n",
    "last_window = pd.concat([y_train, y_test_1], axis=0)"
   ]
  },
  {
   "cell_type": "code",
   "execution_count": 0,
   "metadata": {
    "application/vnd.databricks.v1+cell": {
     "cellMetadata": {
      "byteLimit": 2048000,
      "rowLimit": 10000
     },
     "inputWidgets": {},
     "nuid": "7b04225c-8133-4f9d-a40a-3f27bf8b1d0c",
     "showTitle": false,
     "tableResultSettingsMap": {},
     "title": ""
    }
   },
   "outputs": [],
   "source": [
    "pred_2_ord = forecaster.predict_interval(\n",
    "    steps=predict_steps_2,\n",
    "    last_window=last_window,\n",
    "    exog=X_test_2,\n",
    "    interval=[10, 90],\n",
    "    n_boot=20,  # default 250, spesso usano 1000\n",
    "    use_in_sample_residuals=False,  # True -> usa quelli ricavati in training set\n",
    "    use_binned_residuals=False,  # feature sperimentale, per condizionare i residui alla predizione\n",
    ")"
   ]
  },
  {
   "cell_type": "code",
   "execution_count": 0,
   "metadata": {
    "application/vnd.databricks.v1+cell": {
     "cellMetadata": {
      "byteLimit": 2048000,
      "rowLimit": 10000
     },
     "inputWidgets": {},
     "nuid": "ce21f344-c05f-440a-9dd6-ee5edd5bd02f",
     "showTitle": false,
     "tableResultSettingsMap": {},
     "title": ""
    }
   },
   "outputs": [],
   "source": [
    "plot_pi(\n",
    "    y_true=y_test_2,\n",
    "    y_pred=pred_2_ord[\"pred\"],\n",
    "    y_lb=pred_2_ord[\"lower_bound\"],\n",
    "    y_ub=pred_2_ord[\"upper_bound\"],\n",
    "    lbl_pi=\"ordinary bs PI\",\n",
    ")"
   ]
  }
 ],
 "metadata": {
  "application/vnd.databricks.v1+notebook": {
   "computePreferences": {
    "hardware": {
     "accelerator": null,
     "gpuPoolId": null,
     "memory": null
    }
   },
   "dashboards": [],
   "environmentMetadata": {
    "base_environment": "",
    "environment_version": "2"
   },
   "inputWidgetPreferences": null,
   "language": "python",
   "notebookMetadata": {
    "mostRecentlyExecutedCommandWithImplicitDF": {
     "commandId": 8126016878984876,
     "dataframes": [
      "_sqldf"
     ]
    },
    "pythonIndentUnit": 4
   },
   "notebookName": "train",
   "widgets": {
    "file_date": {
     "currentValue": "2025-07-25",
     "nuid": "73a069d8-82c7-4852-ad8b-4f0c70237c7f",
     "typedWidgetInfo": {
      "autoCreated": false,
      "defaultValue": "2023-01-01",
      "label": "Data del file",
      "name": "file_date",
      "options": {
       "widgetDisplayType": "Text",
       "validationRegex": null
      },
      "parameterDataType": "String"
     },
     "widgetInfo": {
      "widgetType": "text",
      "defaultValue": "2023-01-01",
      "label": "Data del file",
      "name": "file_date",
      "options": {
       "widgetType": "text",
       "autoCreated": null,
       "validationRegex": null
      }
     }
    }
   }
  },
  "language_info": {
   "name": "python"
  }
 },
 "nbformat": 4,
 "nbformat_minor": 0
}
