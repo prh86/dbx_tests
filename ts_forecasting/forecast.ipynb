{
 "cells": [
  {
   "cell_type": "code",
   "execution_count": 0,
   "metadata": {
    "application/vnd.databricks.v1+cell": {
     "cellMetadata": {
      "byteLimit": 2048000,
      "rowLimit": 10000
     },
     "inputWidgets": {},
     "nuid": "49806ed4-2358-40a1-8383-341ef4013793",
     "showTitle": false,
     "tableResultSettingsMap": {},
     "title": ""
    }
   },
   "outputs": [],
   "source": [
    "%pip install -r requirements.txt"
   ]
  },
  {
   "cell_type": "code",
   "execution_count": 0,
   "metadata": {
    "application/vnd.databricks.v1+cell": {
     "cellMetadata": {
      "byteLimit": 2048000,
      "rowLimit": 10000
     },
     "inputWidgets": {},
     "nuid": "5f28ad4e-1590-40c0-83d5-2168dacf7c49",
     "showTitle": false,
     "tableResultSettingsMap": {},
     "title": ""
    }
   },
   "outputs": [],
   "source": [
    "dbutils.library.restartPython()"
   ]
  },
  {
   "cell_type": "code",
   "execution_count": 0,
   "metadata": {
    "application/vnd.databricks.v1+cell": {
     "cellMetadata": {
      "byteLimit": 2048000,
      "rowLimit": 10000
     },
     "inputWidgets": {},
     "nuid": "492d53f3-cb9a-40dc-b5b7-166e7a34ce60",
     "showTitle": false,
     "tableResultSettingsMap": {},
     "title": ""
    }
   },
   "outputs": [],
   "source": [
    "import os\n",
    "import pandas as pd\n",
    "import matplotlib.pyplot as plt\n",
    "\n",
    "from src.models.holidays_related.custom_holidays import get_all_holidays\n",
    "from src.data.columns import Columns\n",
    "from src.models.model_features import features_exog, apply_functions\n",
    "\n",
    "pd.options.display.float_format = \"{:,.2f}\".format"
   ]
  },
  {
   "cell_type": "code",
   "execution_count": 0,
   "metadata": {
    "application/vnd.databricks.v1+cell": {
     "cellMetadata": {
      "byteLimit": 2048000,
      "rowLimit": 10000
     },
     "inputWidgets": {},
     "nuid": "83f7451b-7d21-4aaa-b5f9-d4fc4c346ea6",
     "showTitle": false,
     "tableResultSettingsMap": {},
     "title": ""
    }
   },
   "outputs": [],
   "source": [
    "from src.data.columns import Columns\n",
    "\n",
    "DATE_COL = Columns.DATE.value\n",
    "AMOUNT_COL = Columns.AMOUNT.value\n",
    "PRED_UB_COL = Columns.PRED_UB_COL.value\n",
    "PRED_LB_COL = Columns.PRED_LB_COL.value"
   ]
  },
  {
   "cell_type": "code",
   "execution_count": 0,
   "metadata": {
    "application/vnd.databricks.v1+cell": {
     "cellMetadata": {
      "byteLimit": 2048000,
      "rowLimit": 10000
     },
     "inputWidgets": {},
     "nuid": "2de5e1e6-fff1-4bb2-b78e-c0b4698cb855",
     "showTitle": false,
     "tableResultSettingsMap": {},
     "title": ""
    }
   },
   "outputs": [],
   "source": [
    "dbutils.widgets.text(\"file_date\", \"2023-01-01\", \"Data del file\")\n",
    "file_date = dbutils.widgets.get(\"file_date\")"
   ]
  },
  {
   "cell_type": "code",
   "execution_count": 0,
   "metadata": {
    "application/vnd.databricks.v1+cell": {
     "cellMetadata": {
      "byteLimit": 2048000,
      "rowLimit": 10000
     },
     "inputWidgets": {},
     "nuid": "6c6bb155-bc2e-42f6-8976-f924554c7a81",
     "showTitle": false,
     "tableResultSettingsMap": {},
     "title": ""
    }
   },
   "outputs": [],
   "source": [
    "from config.paths import get_clean_input_file_path, get_output_file_path\n",
    "\n",
    "INPUT_DATA_PATH = get_clean_input_file_path(file_date)\n",
    "OUTPUT_DATA_PATH = get_output_file_path(file_date)"
   ]
  },
  {
   "cell_type": "code",
   "execution_count": 0,
   "metadata": {
    "application/vnd.databricks.v1+cell": {
     "cellMetadata": {
      "byteLimit": 2048000,
      "rowLimit": 10000
     },
     "inputWidgets": {},
     "nuid": "cb16f95d-14a9-4614-a02f-a9979365fe37",
     "showTitle": false,
     "tableResultSettingsMap": {},
     "title": ""
    }
   },
   "outputs": [],
   "source": [
    "from src.models.tracking_constants import ModelTracking\n",
    "\n",
    "EXPERIMENT_NAME = ModelTracking.EXPERIMENT_NAME.value\n",
    "TUNE_TRAIN_RUN_NAME = ModelTracking.TUNE_TRAIN_RUN_NAME.value\n",
    "ARTIFACT_PATH = ModelTracking.ARTIFACT_PATH.value\n",
    "ARTIFACT_NAME = ModelTracking.ARTIFACT_NAME.value"
   ]
  },
  {
   "cell_type": "code",
   "execution_count": 0,
   "metadata": {
    "application/vnd.databricks.v1+cell": {
     "cellMetadata": {
      "byteLimit": 2048000,
      "rowLimit": 10000
     },
     "inputWidgets": {},
     "nuid": "7f47c717-c857-437f-8323-46a2195481f0",
     "showTitle": false,
     "tableResultSettingsMap": {},
     "title": ""
    }
   },
   "outputs": [],
   "source": [
    "PRED_HORIZON = 120"
   ]
  },
  {
   "cell_type": "markdown",
   "metadata": {
    "application/vnd.databricks.v1+cell": {
     "cellMetadata": {},
     "inputWidgets": {},
     "nuid": "8a23cb04-723f-4d8b-9c76-86b0b0689ded",
     "showTitle": false,
     "tableResultSettingsMap": {},
     "title": ""
    }
   },
   "source": [
    "#### data loading"
   ]
  },
  {
   "cell_type": "code",
   "execution_count": 0,
   "metadata": {
    "application/vnd.databricks.v1+cell": {
     "cellMetadata": {
      "byteLimit": 2048000,
      "rowLimit": 10000
     },
     "inputWidgets": {},
     "nuid": "c90e72b9-4428-454e-b2b9-e66d15654844",
     "showTitle": false,
     "tableResultSettingsMap": {},
     "title": ""
    }
   },
   "outputs": [],
   "source": [
    "loaded_spark_df = spark.read.format(\"delta\").load(INPUT_DATA_PATH)\n",
    "data = loaded_spark_df.toPandas()"
   ]
  },
  {
   "cell_type": "code",
   "execution_count": 0,
   "metadata": {
    "application/vnd.databricks.v1+cell": {
     "cellMetadata": {
      "byteLimit": 2048000,
      "rowLimit": 10000
     },
     "inputWidgets": {},
     "nuid": "12da0361-bbf1-4386-9dea-7cdf7a5290b1",
     "showTitle": false,
     "tableResultSettingsMap": {},
     "title": ""
    }
   },
   "outputs": [],
   "source": [
    "data.index = data[DATE_COL]\n",
    "data = data.asfreq('B')"
   ]
  },
  {
   "cell_type": "code",
   "execution_count": 0,
   "metadata": {
    "application/vnd.databricks.v1+cell": {
     "cellMetadata": {
      "byteLimit": 2048000,
      "rowLimit": 10000
     },
     "inputWidgets": {},
     "nuid": "9d30bf8b-0781-456d-8515-53f212571f1b",
     "showTitle": false,
     "tableResultSettingsMap": {},
     "title": ""
    }
   },
   "outputs": [],
   "source": [
    "data"
   ]
  },
  {
   "cell_type": "markdown",
   "metadata": {
    "application/vnd.databricks.v1+cell": {
     "cellMetadata": {},
     "inputWidgets": {},
     "nuid": "5b2d4f64-a193-49f8-b9c3-9b22a14e9c07",
     "showTitle": false,
     "tableResultSettingsMap": {},
     "title": ""
    }
   },
   "source": [
    "#### preparation of last window y"
   ]
  },
  {
   "cell_type": "code",
   "execution_count": 0,
   "metadata": {
    "application/vnd.databricks.v1+cell": {
     "cellMetadata": {
      "byteLimit": 2048000,
      "rowLimit": 10000
     },
     "inputWidgets": {},
     "nuid": "b661f10f-2e78-4aab-a8e7-10addc8125a5",
     "showTitle": false,
     "tableResultSettingsMap": {},
     "title": ""
    }
   },
   "outputs": [],
   "source": [
    "last_window = data[AMOUNT_COL]"
   ]
  },
  {
   "cell_type": "code",
   "execution_count": 0,
   "metadata": {
    "application/vnd.databricks.v1+cell": {
     "cellMetadata": {
      "byteLimit": 2048000,
      "rowLimit": 10000
     },
     "inputWidgets": {},
     "nuid": "aa7a00e3-7fc9-4116-95b9-61314789948e",
     "showTitle": false,
     "tableResultSettingsMap": {},
     "title": ""
    }
   },
   "outputs": [],
   "source": [
    "last_window.index.min(), last_window.index.max()"
   ]
  },
  {
   "cell_type": "markdown",
   "metadata": {
    "application/vnd.databricks.v1+cell": {
     "cellMetadata": {},
     "inputWidgets": {},
     "nuid": "8da3c4f8-bfc5-4b9c-9514-5507c9104c97",
     "showTitle": false,
     "tableResultSettingsMap": {},
     "title": ""
    }
   },
   "source": [
    "#### preparation of future series"
   ]
  },
  {
   "cell_type": "code",
   "execution_count": 0,
   "metadata": {
    "application/vnd.databricks.v1+cell": {
     "cellMetadata": {
      "byteLimit": 2048000,
      "rowLimit": 10000
     },
     "inputWidgets": {},
     "nuid": "6d585269-e0f8-4e02-8dd9-a0fd879aef22",
     "showTitle": false,
     "tableResultSettingsMap": {},
     "title": ""
    }
   },
   "outputs": [],
   "source": [
    "years_of_interest = list(range(pd.Timestamp.today().year - 5, pd.Timestamp.today().year + 2))\n",
    "print(years_of_interest)\n",
    "list_holidays = [x.strftime(\"%Y-%m-%d\") for x in get_all_holidays(years_of_interest)]"
   ]
  },
  {
   "cell_type": "code",
   "execution_count": 0,
   "metadata": {
    "application/vnd.databricks.v1+cell": {
     "cellMetadata": {
      "byteLimit": 2048000,
      "rowLimit": 10000
     },
     "inputWidgets": {},
     "nuid": "9bb45fb3-b1b6-4fd5-9bd1-891be203d10e",
     "showTitle": false,
     "tableResultSettingsMap": {},
     "title": ""
    }
   },
   "outputs": [],
   "source": [
    "from pandas.tseries.offsets import CustomBusinessDay\n",
    "\n",
    "custom_bday = CustomBusinessDay(holidays=list_holidays)\n",
    "future_dates = pd.date_range(\n",
    "    start=last_window.index.max() + custom_bday,\n",
    "    periods=PRED_HORIZON,\n",
    "    freq=custom_bday\n",
    ")\n",
    "future_exog = pd.DataFrame({DATE_COL: future_dates})\n",
    "future_exog.index = future_exog[DATE_COL]\n",
    "future_exog = future_exog.asfreq('B')\n",
    "\n",
    "future_exog"
   ]
  },
  {
   "cell_type": "code",
   "execution_count": 0,
   "metadata": {
    "application/vnd.databricks.v1+cell": {
     "cellMetadata": {
      "byteLimit": 2048000,
      "rowLimit": 10000
     },
     "inputWidgets": {},
     "nuid": "ce972160-ccb2-4190-977b-79c9bc7678d2",
     "showTitle": false,
     "tableResultSettingsMap": {},
     "title": ""
    }
   },
   "outputs": [],
   "source": [
    "future_exog = apply_functions(future_exog, features_exog)"
   ]
  },
  {
   "cell_type": "markdown",
   "metadata": {
    "application/vnd.databricks.v1+cell": {
     "cellMetadata": {},
     "inputWidgets": {},
     "nuid": "18a595dc-a030-4fb9-bfae-edb0fe00b4b6",
     "showTitle": false,
     "tableResultSettingsMap": {},
     "title": ""
    }
   },
   "source": [
    "#### Forecaster loading from MLFlow"
   ]
  },
  {
   "cell_type": "code",
   "execution_count": 0,
   "metadata": {
    "application/vnd.databricks.v1+cell": {
     "cellMetadata": {
      "byteLimit": 2048000,
      "rowLimit": 10000
     },
     "inputWidgets": {},
     "nuid": "3cabafd0-8ab5-4d3e-8840-33513890c427",
     "showTitle": false,
     "tableResultSettingsMap": {},
     "title": ""
    }
   },
   "outputs": [],
   "source": [
    "import mlflow\n",
    "# from model_wrapper import SkforecastWrapper\n",
    "\n",
    "mlflow.set_registry_uri(\"databricks\") # you need the Model Registry/UC to be enabled\n",
    "\n",
    "experiment_id = mlflow.get_experiment_by_name(EXPERIMENT_NAME).experiment_id\n",
    "\n",
    "# Search for runs with the given run_name, sorted by start_time descending\n",
    "runs = mlflow.search_runs(\n",
    "    experiment_ids=[experiment_id],\n",
    "    filter_string=f\"tags.mlflow.runName = '{TUNE_TRAIN_RUN_NAME}'\",\n",
    "    order_by=[\"start_time DESC\"]\n",
    ")\n",
    "\n",
    "if not runs.empty:\n",
    "    last_run_id = runs.iloc[0].run_id\n",
    "    print(f\"Last run_id for run_name: {last_run_id}\")\n",
    "    # Load the model\n",
    "    model = mlflow.pyfunc.load_model(f\"runs:/{last_run_id}/{ARTIFACT_PATH}\")\n",
    "else:\n",
    "    print(\"No runs found with the given run_name.\")"
   ]
  },
  {
   "cell_type": "code",
   "execution_count": 0,
   "metadata": {
    "application/vnd.databricks.v1+cell": {
     "cellMetadata": {
      "byteLimit": 2048000,
      "rowLimit": 10000
     },
     "inputWidgets": {},
     "nuid": "a36dfd62-703a-45dc-9087-beb55890e0d2",
     "showTitle": false,
     "tableResultSettingsMap": {},
     "title": ""
    }
   },
   "outputs": [],
   "source": [
    "input_dict = {\n",
    "    \"last_window\": last_window,\n",
    "    \"exog\": future_exog,\n",
    "    \"steps\": len(future_exog),\n",
    "    \"interval\": [10, 90],\n",
    "    \"n_boot\": 10\n",
    "}\n",
    "\n",
    "y_pred = model.predict(input_dict)"
   ]
  },
  {
   "cell_type": "code",
   "execution_count": 0,
   "metadata": {
    "application/vnd.databricks.v1+cell": {
     "cellMetadata": {
      "byteLimit": 2048000,
      "rowLimit": 10000
     },
     "inputWidgets": {},
     "nuid": "998a6a7a-ddff-41f4-9717-4974d6c28bc9",
     "showTitle": false,
     "tableResultSettingsMap": {},
     "title": ""
    }
   },
   "outputs": [],
   "source": [
    "y_pred_df = y_pred.reset_index()\n",
    "y_pred_df.columns = [DATE_COL, AMOUNT_COL, PRED_LB_COL, PRED_UB_COL]"
   ]
  },
  {
   "cell_type": "code",
   "execution_count": 0,
   "metadata": {
    "application/vnd.databricks.v1+cell": {
     "cellMetadata": {
      "byteLimit": 2048000,
      "rowLimit": 10000
     },
     "inputWidgets": {},
     "nuid": "c89743d2-73a2-4e42-90ff-d01ef17f6f80",
     "showTitle": false,
     "tableResultSettingsMap": {},
     "title": ""
    }
   },
   "outputs": [],
   "source": [
    "fig, ax = plt.subplots(1, 1, figsize=(8, 4))\n",
    "\n",
    "ax.plot(y_pred_df[DATE_COL], y_pred_df[AMOUNT_COL], label=\"prediction\", color=\"k\")\n",
    "ax.fill_between(y_pred_df[DATE_COL], y_pred_df[PRED_LB_COL], y_pred_df[PRED_UB_COL], color=\"deepskyblue\", alpha=0.9, label= 'prediction interval')\n",
    "last_window.plot(ax = ax, label = 'last_window', color='b')\n",
    "fig.legend()\n",
    "fig"
   ]
  },
  {
   "cell_type": "code",
   "execution_count": 0,
   "metadata": {
    "application/vnd.databricks.v1+cell": {
     "cellMetadata": {
      "byteLimit": 2048000,
      "rowLimit": 10000
     },
     "inputWidgets": {},
     "nuid": "a2e4bd83-8132-4e7f-a68e-f7603e358344",
     "showTitle": false,
     "tableResultSettingsMap": {},
     "title": ""
    }
   },
   "outputs": [],
   "source": [
    "fig, ax = plt.subplots(1, 1, figsize=(8, 4))\n",
    "\n",
    "ax.plot(y_pred_df[DATE_COL], y_pred_df[AMOUNT_COL], label=\"prediction\", color=\"k\")\n",
    "ax.fill_between(y_pred_df[DATE_COL], y_pred_df[PRED_LB_COL], y_pred_df[PRED_UB_COL], color=\"deepskyblue\", alpha=0.9, label= 'prediction interval')\n",
    "fig.legend()\n",
    "fig"
   ]
  },
  {
   "cell_type": "code",
   "execution_count": 0,
   "metadata": {
    "application/vnd.databricks.v1+cell": {
     "cellMetadata": {
      "byteLimit": 2048000,
      "rowLimit": 10000
     },
     "inputWidgets": {},
     "nuid": "ac9defb9-3adf-4308-bd7a-a87f1d52216e",
     "showTitle": false,
     "tableResultSettingsMap": {},
     "title": ""
    }
   },
   "outputs": [],
   "source": [
    "y_pred_df.to_csv(OUTPUT_DATA_PATH, index=False)"
   ]
  }
 ],
 "metadata": {
  "application/vnd.databricks.v1+notebook": {
   "computePreferences": {
    "hardware": {
     "accelerator": null,
     "gpuPoolId": null,
     "memory": null
    }
   },
   "dashboards": [],
   "environmentMetadata": {
    "base_environment": "",
    "environment_version": "2"
   },
   "inputWidgetPreferences": null,
   "language": "python",
   "notebookMetadata": {
    "mostRecentlyExecutedCommandWithImplicitDF": {
     "commandId": 8126016878984678,
     "dataframes": [
      "_sqldf"
     ]
    },
    "pythonIndentUnit": 4
   },
   "notebookName": "forecast",
   "widgets": {
    "file_date": {
     "currentValue": "2025-08-18",
     "nuid": "602640b1-b857-4c9c-a22a-e7f3b9936f91",
     "typedWidgetInfo": {
      "autoCreated": false,
      "defaultValue": "2023-01-01",
      "label": "Data del file",
      "name": "file_date",
      "options": {
       "widgetDisplayType": "Text",
       "validationRegex": null
      },
      "parameterDataType": "String"
     },
     "widgetInfo": {
      "widgetType": "text",
      "defaultValue": "2023-01-01",
      "label": "Data del file",
      "name": "file_date",
      "options": {
       "widgetType": "text",
       "autoCreated": null,
       "validationRegex": null
      }
     }
    }
   }
  },
  "language_info": {
   "name": "python"
  }
 },
 "nbformat": 4,
 "nbformat_minor": 0
}
